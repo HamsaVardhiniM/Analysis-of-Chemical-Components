{
 "cells": [
  {
   "cell_type": "markdown",
   "metadata": {
    "dc": {
     "key": "4"
    },
    "deletable": false,
    "editable": false,
    "run_control": {
     "frozen": true
    },
    "tags": [
     "context"
    ]
   },
   "source": [
    "## 1. Cosmetics, chemicals... it's complicated\n",
    "<p>Whenever I want to try a new cosmetic item, it's so difficult to choose. It's actually more than difficult. It's sometimes scary because new items that I've never tried end up giving me skin trouble. We know the information we need is on the back of each product, but it's really hard to interpret those ingredient lists unless you're a chemist. You may be able to relate to this situation.</p>\n",
    "<p><img src=\"https://assets.datacamp.com/production/project_695/img/image_1.png\" style=\"width:600px;height:400px;\"></p>\n",
    "<p>So instead of buying and hoping for the best, why don't we use data science to help us predict which products may be good fits for us? In this notebook, we are going to create a content-based recommendation system where the 'content' will be the chemical components of cosmetics. Specifically, we will process ingredient lists for 1472 cosmetics on Sephora via <a href=\"https://en.wikipedia.org/wiki/Word_embedding\">word embedding</a>, then visualize ingredient similarity using a machine learning method called t-SNE and an interactive visualization library called Bokeh. Let's inspect our data first.</p>"
   ]
  },
  {
   "cell_type": "code",
   "execution_count": 4,
   "metadata": {
    "dc": {
     "key": "4"
    },
    "tags": [
     "sample_code"
    ]
   },
   "outputs": [
    {
     "data": {
      "text/html": [
       "<div>\n",
       "<style scoped>\n",
       "    .dataframe tbody tr th:only-of-type {\n",
       "        vertical-align: middle;\n",
       "    }\n",
       "\n",
       "    .dataframe tbody tr th {\n",
       "        vertical-align: top;\n",
       "    }\n",
       "\n",
       "    .dataframe thead th {\n",
       "        text-align: right;\n",
       "    }\n",
       "</style>\n",
       "<table border=\"1\" class=\"dataframe\">\n",
       "  <thead>\n",
       "    <tr style=\"text-align: right;\">\n",
       "      <th></th>\n",
       "      <th>Label</th>\n",
       "      <th>Brand</th>\n",
       "      <th>Name</th>\n",
       "      <th>Price</th>\n",
       "      <th>Rank</th>\n",
       "      <th>Ingredients</th>\n",
       "      <th>Combination</th>\n",
       "      <th>Dry</th>\n",
       "      <th>Normal</th>\n",
       "      <th>Oily</th>\n",
       "      <th>Sensitive</th>\n",
       "    </tr>\n",
       "  </thead>\n",
       "  <tbody>\n",
       "    <tr>\n",
       "      <th>0</th>\n",
       "      <td>Moisturizer</td>\n",
       "      <td>LA MER</td>\n",
       "      <td>Crème de la Mer</td>\n",
       "      <td>175</td>\n",
       "      <td>4.1</td>\n",
       "      <td>Algae (Seaweed) Extract, Mineral Oil, Petrolat...</td>\n",
       "      <td>1</td>\n",
       "      <td>1</td>\n",
       "      <td>1</td>\n",
       "      <td>1</td>\n",
       "      <td>1</td>\n",
       "    </tr>\n",
       "    <tr>\n",
       "      <th>1</th>\n",
       "      <td>Moisturizer</td>\n",
       "      <td>SK-II</td>\n",
       "      <td>Facial Treatment Essence</td>\n",
       "      <td>179</td>\n",
       "      <td>4.1</td>\n",
       "      <td>Galactomyces Ferment Filtrate (Pitera), Butyle...</td>\n",
       "      <td>1</td>\n",
       "      <td>1</td>\n",
       "      <td>1</td>\n",
       "      <td>1</td>\n",
       "      <td>1</td>\n",
       "    </tr>\n",
       "    <tr>\n",
       "      <th>2</th>\n",
       "      <td>Moisturizer</td>\n",
       "      <td>DRUNK ELEPHANT</td>\n",
       "      <td>Protini™ Polypeptide Cream</td>\n",
       "      <td>68</td>\n",
       "      <td>4.4</td>\n",
       "      <td>Water, Dicaprylyl Carbonate, Glycerin, Ceteary...</td>\n",
       "      <td>1</td>\n",
       "      <td>1</td>\n",
       "      <td>1</td>\n",
       "      <td>1</td>\n",
       "      <td>0</td>\n",
       "    </tr>\n",
       "    <tr>\n",
       "      <th>3</th>\n",
       "      <td>Moisturizer</td>\n",
       "      <td>LA MER</td>\n",
       "      <td>The Moisturizing Soft Cream</td>\n",
       "      <td>175</td>\n",
       "      <td>3.8</td>\n",
       "      <td>Algae (Seaweed) Extract, Cyclopentasiloxane, P...</td>\n",
       "      <td>1</td>\n",
       "      <td>1</td>\n",
       "      <td>1</td>\n",
       "      <td>1</td>\n",
       "      <td>1</td>\n",
       "    </tr>\n",
       "    <tr>\n",
       "      <th>4</th>\n",
       "      <td>Moisturizer</td>\n",
       "      <td>IT COSMETICS</td>\n",
       "      <td>Your Skin But Better™ CC+™ Cream with SPF 50+</td>\n",
       "      <td>38</td>\n",
       "      <td>4.1</td>\n",
       "      <td>Water, Snail Secretion Filtrate, Phenyl Trimet...</td>\n",
       "      <td>1</td>\n",
       "      <td>1</td>\n",
       "      <td>1</td>\n",
       "      <td>1</td>\n",
       "      <td>1</td>\n",
       "    </tr>\n",
       "  </tbody>\n",
       "</table>\n",
       "</div>"
      ],
      "text/plain": [
       "         Label           Brand                                           Name  \\\n",
       "0  Moisturizer          LA MER                                Crème de la Mer   \n",
       "1  Moisturizer           SK-II                       Facial Treatment Essence   \n",
       "2  Moisturizer  DRUNK ELEPHANT                     Protini™ Polypeptide Cream   \n",
       "3  Moisturizer          LA MER                    The Moisturizing Soft Cream   \n",
       "4  Moisturizer    IT COSMETICS  Your Skin But Better™ CC+™ Cream with SPF 50+   \n",
       "\n",
       "   Price  Rank                                        Ingredients  \\\n",
       "0    175   4.1  Algae (Seaweed) Extract, Mineral Oil, Petrolat...   \n",
       "1    179   4.1  Galactomyces Ferment Filtrate (Pitera), Butyle...   \n",
       "2     68   4.4  Water, Dicaprylyl Carbonate, Glycerin, Ceteary...   \n",
       "3    175   3.8  Algae (Seaweed) Extract, Cyclopentasiloxane, P...   \n",
       "4     38   4.1  Water, Snail Secretion Filtrate, Phenyl Trimet...   \n",
       "\n",
       "   Combination  Dry  Normal  Oily  Sensitive  \n",
       "0            1    1       1     1          1  \n",
       "1            1    1       1     1          1  \n",
       "2            1    1       1     1          0  \n",
       "3            1    1       1     1          1  \n",
       "4            1    1       1     1          1  "
      ]
     },
     "execution_count": 4,
     "metadata": {},
     "output_type": "execute_result"
    }
   ],
   "source": [
    "# Import libraries\n",
    "# ... YOUR CODE FOR TASK 1 ...\n",
    "import pandas as pd\n",
    "import numpy as np\n",
    "from sklearn.manifold import TSNE\n",
    "\n",
    "\n",
    "# Load the data\n",
    "df =pd.read_csv(\"cosmetics.csv\")\n",
    "\n",
    "# Check the first five rows \n",
    "# ... YOUR CODE FOR TASK 1 ...\n",
    "\n",
    "df.head()\n",
    "# Inspect the types of products\n",
    "# ... YOUR CODE FOR TASK 1 ...\n"
   ]
  },
  {
   "cell_type": "code",
   "execution_count": 5,
   "metadata": {},
   "outputs": [
    {
     "data": {
      "text/plain": [
       "array(['Moisturizer', 'Cleanser', 'Treatment', 'Face Mask', 'Eye cream',\n",
       "       'Sun protect'], dtype=object)"
      ]
     },
     "execution_count": 5,
     "metadata": {},
     "output_type": "execute_result"
    }
   ],
   "source": [
    "df[\"Label\"].unique()"
   ]
  },
  {
   "cell_type": "code",
   "execution_count": 3,
   "metadata": {},
   "outputs": [
    {
     "data": {
      "text/plain": [
       "Label          0\n",
       "Brand          0\n",
       "Name           0\n",
       "Price          0\n",
       "Rank           0\n",
       "Ingredients    0\n",
       "Combination    0\n",
       "Dry            0\n",
       "Normal         0\n",
       "Oily           0\n",
       "Sensitive      0\n",
       "dtype: int64"
      ]
     },
     "execution_count": 3,
     "metadata": {},
     "output_type": "execute_result"
    }
   ],
   "source": [
    "#Data Cleaning\n",
    "df.isnull().sum()"
   ]
  },
  {
   "cell_type": "markdown",
   "metadata": {
    "dc": {
     "key": "12"
    },
    "deletable": false,
    "editable": false,
    "run_control": {
     "frozen": true
    },
    "tags": [
     "context"
    ]
   },
   "source": [
    "## 2. Focus on one product category and one skin type\n",
    "<p>There are six categories of product in our data (<strong><em>moisturizers, cleansers, face masks, eye creams</em></strong>, and <strong><em>sun protection</em></strong>) and there are five different skin types (<strong><em>combination, dry, normal, oily</em></strong> and <strong><em>sensitive</em></strong>). Because individuals have different product needs as well as different skin types, let's set up our workflow so its outputs (a t-SNE model and a visualization of that model) can be customized. For the example in this notebook, let's focus in on moisturizers for those with dry skin by filtering the data accordingly.</p>"
   ]
  },
  {
   "cell_type": "code",
   "execution_count": 6,
   "metadata": {
    "dc": {
     "key": "12"
    },
    "tags": [
     "sample_code"
    ]
   },
   "outputs": [],
   "source": [
    "# Filter for moisturizers\n",
    "\n",
    "\n",
    "# Filter for dry skin as well\n",
    "moisturizers_dry = df[(df['Label'] == 'Moisturizer') & (df['Dry'] == 1)]\n",
    "\n",
    "# Reset index\n",
    "moisturizers_dry.reset_index(drop=True, inplace=True)"
   ]
  },
  {
   "cell_type": "code",
   "execution_count": 7,
   "metadata": {},
   "outputs": [
    {
     "data": {
      "text/html": [
       "<div>\n",
       "<style scoped>\n",
       "    .dataframe tbody tr th:only-of-type {\n",
       "        vertical-align: middle;\n",
       "    }\n",
       "\n",
       "    .dataframe tbody tr th {\n",
       "        vertical-align: top;\n",
       "    }\n",
       "\n",
       "    .dataframe thead th {\n",
       "        text-align: right;\n",
       "    }\n",
       "</style>\n",
       "<table border=\"1\" class=\"dataframe\">\n",
       "  <thead>\n",
       "    <tr style=\"text-align: right;\">\n",
       "      <th></th>\n",
       "      <th>Label</th>\n",
       "      <th>Brand</th>\n",
       "      <th>Name</th>\n",
       "      <th>Price</th>\n",
       "      <th>Rank</th>\n",
       "      <th>Ingredients</th>\n",
       "      <th>Combination</th>\n",
       "      <th>Dry</th>\n",
       "      <th>Normal</th>\n",
       "      <th>Oily</th>\n",
       "      <th>Sensitive</th>\n",
       "    </tr>\n",
       "  </thead>\n",
       "  <tbody>\n",
       "    <tr>\n",
       "      <th>0</th>\n",
       "      <td>Moisturizer</td>\n",
       "      <td>LA MER</td>\n",
       "      <td>Crème de la Mer</td>\n",
       "      <td>175</td>\n",
       "      <td>4.1</td>\n",
       "      <td>Algae (Seaweed) Extract, Mineral Oil, Petrolat...</td>\n",
       "      <td>1</td>\n",
       "      <td>1</td>\n",
       "      <td>1</td>\n",
       "      <td>1</td>\n",
       "      <td>1</td>\n",
       "    </tr>\n",
       "    <tr>\n",
       "      <th>1</th>\n",
       "      <td>Moisturizer</td>\n",
       "      <td>SK-II</td>\n",
       "      <td>Facial Treatment Essence</td>\n",
       "      <td>179</td>\n",
       "      <td>4.1</td>\n",
       "      <td>Galactomyces Ferment Filtrate (Pitera), Butyle...</td>\n",
       "      <td>1</td>\n",
       "      <td>1</td>\n",
       "      <td>1</td>\n",
       "      <td>1</td>\n",
       "      <td>1</td>\n",
       "    </tr>\n",
       "    <tr>\n",
       "      <th>2</th>\n",
       "      <td>Moisturizer</td>\n",
       "      <td>DRUNK ELEPHANT</td>\n",
       "      <td>Protini™ Polypeptide Cream</td>\n",
       "      <td>68</td>\n",
       "      <td>4.4</td>\n",
       "      <td>Water, Dicaprylyl Carbonate, Glycerin, Ceteary...</td>\n",
       "      <td>1</td>\n",
       "      <td>1</td>\n",
       "      <td>1</td>\n",
       "      <td>1</td>\n",
       "      <td>0</td>\n",
       "    </tr>\n",
       "    <tr>\n",
       "      <th>3</th>\n",
       "      <td>Moisturizer</td>\n",
       "      <td>LA MER</td>\n",
       "      <td>The Moisturizing Soft Cream</td>\n",
       "      <td>175</td>\n",
       "      <td>3.8</td>\n",
       "      <td>Algae (Seaweed) Extract, Cyclopentasiloxane, P...</td>\n",
       "      <td>1</td>\n",
       "      <td>1</td>\n",
       "      <td>1</td>\n",
       "      <td>1</td>\n",
       "      <td>1</td>\n",
       "    </tr>\n",
       "    <tr>\n",
       "      <th>4</th>\n",
       "      <td>Moisturizer</td>\n",
       "      <td>IT COSMETICS</td>\n",
       "      <td>Your Skin But Better™ CC+™ Cream with SPF 50+</td>\n",
       "      <td>38</td>\n",
       "      <td>4.1</td>\n",
       "      <td>Water, Snail Secretion Filtrate, Phenyl Trimet...</td>\n",
       "      <td>1</td>\n",
       "      <td>1</td>\n",
       "      <td>1</td>\n",
       "      <td>1</td>\n",
       "      <td>1</td>\n",
       "    </tr>\n",
       "  </tbody>\n",
       "</table>\n",
       "</div>"
      ],
      "text/plain": [
       "         Label           Brand                                           Name  \\\n",
       "0  Moisturizer          LA MER                                Crème de la Mer   \n",
       "1  Moisturizer           SK-II                       Facial Treatment Essence   \n",
       "2  Moisturizer  DRUNK ELEPHANT                     Protini™ Polypeptide Cream   \n",
       "3  Moisturizer          LA MER                    The Moisturizing Soft Cream   \n",
       "4  Moisturizer    IT COSMETICS  Your Skin But Better™ CC+™ Cream with SPF 50+   \n",
       "\n",
       "   Price  Rank                                        Ingredients  \\\n",
       "0    175   4.1  Algae (Seaweed) Extract, Mineral Oil, Petrolat...   \n",
       "1    179   4.1  Galactomyces Ferment Filtrate (Pitera), Butyle...   \n",
       "2     68   4.4  Water, Dicaprylyl Carbonate, Glycerin, Ceteary...   \n",
       "3    175   3.8  Algae (Seaweed) Extract, Cyclopentasiloxane, P...   \n",
       "4     38   4.1  Water, Snail Secretion Filtrate, Phenyl Trimet...   \n",
       "\n",
       "   Combination  Dry  Normal  Oily  Sensitive  \n",
       "0            1    1       1     1          1  \n",
       "1            1    1       1     1          1  \n",
       "2            1    1       1     1          0  \n",
       "3            1    1       1     1          1  \n",
       "4            1    1       1     1          1  "
      ]
     },
     "execution_count": 7,
     "metadata": {},
     "output_type": "execute_result"
    }
   ],
   "source": [
    "moisturizers_dry.head()"
   ]
  },
  {
   "cell_type": "code",
   "execution_count": 8,
   "metadata": {},
   "outputs": [
    {
     "data": {
      "text/plain": [
       "(190, 11)"
      ]
     },
     "execution_count": 8,
     "metadata": {},
     "output_type": "execute_result"
    }
   ],
   "source": [
    "moisturizers_dry.shape"
   ]
  },
  {
   "cell_type": "markdown",
   "metadata": {
    "dc": {
     "key": "19"
    },
    "deletable": false,
    "editable": false,
    "run_control": {
     "frozen": true
    },
    "tags": [
     "context"
    ]
   },
   "source": [
    "## 3. Tokenizing the ingredients\n",
    "<p>To get to our end goal of comparing ingredients in each product, we first need to do some preprocessing tasks and bookkeeping of the actual words in each product's ingredients list. The first step will be tokenizing the list of ingredients in <code>Ingredients</code> column. After splitting them into tokens, we'll make a binary bag of words. Then we will create a dictionary with the tokens, <code>ingredient_idx</code>, which will have the following format:</p>\n",
    "<p>{ <strong><em>\"ingredient\"</em></strong>: index value, … }</p>"
   ]
  },
  {
   "cell_type": "code",
   "execution_count": 11,
   "metadata": {
    "dc": {
     "key": "19"
    },
    "tags": [
     "sample_code"
    ]
   },
   "outputs": [
    {
     "name": "stdout",
     "output_type": "stream",
     "text": [
      "The index for decyl oleate is 25\n"
     ]
    }
   ],
   "source": [
    "# Initialize dictionary, list, and initial index\n",
    "ingredient_idx = {}\n",
    "corpus = []\n",
    "idx = 0\n",
    "\n",
    "# For loop for tokenization\n",
    "for i in range(len(moisturizers_dry)):    \n",
    "    ingredients = moisturizers_dry['Ingredients'][i]\n",
    "    ingredients_lower = ingredients.lower()\n",
    "    tokens = ingredients_lower.split(', ')\n",
    "    corpus.append(tokens)\n",
    "    for ingredient in tokens:\n",
    "        if ingredient not in ingredient_idx:\n",
    "            ingredient_idx[ingredient] = idx\n",
    "            idx += 1\n",
    "            \n",
    "# Check the result \n",
    "print(\"The index for decyl oleate is\", ingredient_idx['decyl oleate'])"
   ]
  },
  {
   "cell_type": "markdown",
   "metadata": {
    "dc": {
     "key": "26"
    },
    "deletable": false,
    "editable": false,
    "run_control": {
     "frozen": true
    },
    "tags": [
     "context"
    ]
   },
   "source": [
    "## 4. Initializing a document-term matrix (DTM)\n",
    "<p>The next step is making a document-term matrix (DTM). Here each cosmetic product will correspond to a document, and each chemical composition will correspond to a term. This means we can think of the matrix as a <em>“cosmetic-ingredient”</em> matrix. The size of the matrix should be as the picture shown below.\n",
    "<img src=\"https://assets.datacamp.com/production/project_695/img/image_2.PNG\" style=\"width:600px;height:250px;\">\n",
    "To create this matrix, we'll first make an empty matrix filled with zeros. The length of the matrix is the total number of cosmetic products in the data. The width of the matrix is the total number of ingredients. After initializing this empty matrix, we'll fill it in the following tasks. </p>"
   ]
  },
  {
   "cell_type": "code",
   "execution_count": 12,
   "metadata": {},
   "outputs": [
    {
     "data": {
      "text/plain": [
       "dict_items([('algae (seaweed) extract', 0), ('mineral oil', 1), ('petrolatum', 2), ('glycerin', 3), ('isohexadecane', 4), ('microcrystalline wax', 5), ('lanolin alcohol', 6), ('citrus aurantifolia (lime) extract', 7), ('sesamum indicum (sesame) seed oil', 8), ('eucalyptus globulus (eucalyptus) leaf oil', 9), ('sesamum indicum (sesame) seed powder', 10), ('medicago sativa (alfalfa) seed powder', 11), ('helianthus annuus (sunflower) seedcake', 12), ('prunus amygdalus dulcis (sweet almond) seed meal', 13), ('sodium gluconate', 14), ('copper gluconate', 15), ('calcium gluconate', 16), ('magnesium gluconate', 17), ('zinc gluconate', 18), ('magnesium sulfate', 19), ('paraffin', 20), ('tocopheryl succinate', 21), ('niacin', 22), ('water', 23), ('beta-carotene', 24), ('decyl oleate', 25), ('aluminum distearate', 26), ('octyldodecanol', 27), ('citric acid', 28), ('cyanocobalamin', 29), ('magnesium stearate', 30), ('panthenol', 31), ('limonene', 32), ('geraniol', 33), ('linalool', 34), ('hydroxycitronellal', 35), ('citronellol', 36), ('benzyl salicylate', 37), ('citral', 38), ('sodium benzoate', 39), ('alcohol denat.', 40), ('fragrance.', 41), ('galactomyces ferment filtrate (pitera)', 42), ('butylene glycol', 43), ('pentylene glycol', 44), ('methylparaben', 45), ('sorbic acid.', 46), ('dicaprylyl carbonate', 47), ('cetearyl alcohol', 48), ('cetearyl olivate', 49), ('sorbitan olivate', 50), ('sclerocarya birrea seed oil', 51), ('bacillus/soybean/ folic acid ferment extract', 52), ('nymphaea alba root extract', 53), ('sh-oligopeptide-1', 54), ('sh-oligopeptide-2', 55), ('sh-polypeptide-1', 56), ('sh-polypeptide-9', 57), ('sh-polypeptide-11', 58), ('copper palmitoyl heptapeptide-14', 59), ('heptapeptide-15 palmitate', 60), ('palmitoyl tetrapeptide-7', 61), ('palmitoyl tripeptide-1', 62), ('alanine', 63), ('arginine', 64), ('glycine', 65), ('histidine', 66), ('isoleucine', 67), ('phenylalanine', 68), ('proline', 69), ('serine', 70), ('threonine', 71), ('valine', 72), ('acetyl glutamine', 73), ('coconut alkanes ', 74), ('coco-caprylate/caprate', 75), ('sodium hyaluronate', 76), ('aspartic acid', 77), ('linoleic acid', 78), ('linolenic acid', 79), ('lecithin', 80), ('polyvinyl alcohol', 81), ('sodium lactate', 82), ('sodium pca', 83), ('pca', 84), ('sorbitan isostearate', 85), ('carbomer', 86), ('polysorbate 20', 87), ('polysorbate 60', 88), ('lactic acid/glycolic acid copolymer', 89), ('hydroxyethyl acrylate/sodium acryloyldimethyl taurate copolymer', 90), ('xanthan gum', 91), ('isomalt', 92), ('1,2-hexanediol', 93), ('caprylyl glycol', 94), ('chlorphenesin', 95), ('phenoxyethanol', 96), ('tocopherol', 97), ('phenylpropanol', 98), ('glyceryl caprylate', 99), ('symphytum officinale callus culture extract.', 100), ('cyclopentasiloxane', 101), ('glyceryl distearate', 102), ('phenyl trimethicone', 103), ('hydrogenated vegetable oil', 104), ('cholesterol', 105), ('butyrospermum parkii (shea butter)', 106), ('steareth-10', 107), ('dimethicone', 108), ('glyceryl stearate se', 109), ('polysilicone-11', 110), ('citrus aurantifolia (lime) peel extract', 111), ('laminaria digitata extract', 112), ('crithmum maritimum extract', 113), ('salicornia herbacea extract', 114), ('plankton extract', 115), ('chlorella vulgaris extract', 116), ('glycine soja (soybean) seed extract', 117), ('caffeine', 118), ('sea salt/maris sal/sel marin', 119), ('micrococcus lysate', 120), ('diethylhexyl succinate', 121), ('adenosine phosphate', 122), ('creatine', 123), ('hydrolyzed algin', 124), ('isocetyl stearoyl stearate', 125), ('cetyl alcohol', 126), ('sucrose', 127), ('acetyl hexapeptide-8', 128), ('glucose oxidase', 129), ('polyacrylamide', 130), ('acetyl carnitine hcl', 131), ('glucose', 132), ('caprylic/capric triglyceride', 133), ('c13-14 isoparaffin', 134), ('tocopheryl acetate', 135), ('tetrahexyldecyl ascorbate', 136), ('glycosaminoglycans', 137), ('urea', 138), ('distearyldimonium chloride', 139), ('dipalmitoyl hydroxyproline', 140), ('laureth-7', 141), ('trehalose', 142), ('polyquaternium-51', 143), ('lactoperoxidase', 144), ('hydroxypropyl cyclodextrin', 145), ('fragrance', 146), ('disodium edta', 147), ('bht', 148), ('potassium sorbate', 149), ('snail secretion filtrate', 150), ('butylene glycol dicaprylate/dicaprate', 151), ('orbignya oleifera seed oil', 152), ('butyloctyl salicylate', 153), ('cetyl peg/ppg-10/1 dimethicone', 154), ('cyclohexasiloxane', 155), ('polyglyceryl-4 isostearate', 156), ('dimethicone/vinyl dimethicone crosspolymer', 157), ('aluminum hydroxide', 158), ('hexyl laurate', 159), ('stearic acid', 160), ('calcium stearate', 161), ('triethoxycaprylylsilane', 162), ('ethylhexylglycerin', 163), ('citrus medica limonum (lemon) peel oil', 164), ('citrus aurantium bergamia (bergamot) fruit oil', 165), ('citrus aurantium dulcis (orange) peel oil', 166), ('citrus aurantifolia (lime) oil', 167), ('vitis vinifera (grape) seed oil', 168), ('punica granatum seed oil', 169), ('pinus sylvestris leaf oil', 170), ('persea gratissima (avocado) oil', 171), ('niacinamide', 172), ('citrus grandis (grapefruit) peel oil', 173), ('anthemis nobilis flower water', 174), ('lactobacillus/honeysuckle flower/licorice root/morus alba root/pueraria lobata root/schizandra chinensis fruit/scutellaria baicalensis root/sophora japonica flower extract ferment filtrate', 175), ('perfluorohexane', 176), ('olea europaea (olive) leaf extract', 177), ('eucalyptus globulus leaf oil', 178), ('camellia sinensis leaf extract', 179), ('chrysanthemum indicum flower extract', 180), ('pueraria lobata root extract', 181), ('perfluorodecalin', 182), ('morus alba fruit extract', 183), ('magnolia kobus bark extract', 184), ('glycine soja (soybean) sprout extract', 185), ('diospyros kaki leaf extract', 186), ('cinnamomum cassia bark extract', 187), ('artemisia princeps leaf extract', 188), ('pentafluoropropane', 189), ('curcuma longa (turmeric) root extract', 190), ('steareth-20', 191), ('hydrolyzed hyaluronic acid', 192), ('colloidal oatmeal', 193), ('hydrolyzed silk', 194), ('aloe barbadensis leaf extract', 195), ('n-hydroxysuccinimide', 196), ('hydrolyzed collagen', 197), ('caprylhydroxamic acid', 198), ('thiamine hcl', 199), ('riboflavin', 200), ('retinyl palmitate', 201), ('pantothenic acid', 202), ('palmitoyl oligopeptide', 203), ('folic acid', 204), ('chrysin', 205), ('carnitine hcl', 206), ('biotin', 207), ('ascorbic acid', 208), ('chlorhexidine digluconate. may contain: iron oxides (ci 77492', 209), ('ci 77491', 210), ('ci 77499).', 211), ('caprylic/ capric triglyceride', 212), ('isopropyl isostearate', 213), ('pseudozyma epicola/camellia sinensis seed oil/glucose/glycine soja meal/malt extract/yeast extract ferment filtrate (pseudozyma epicola/camellia sinensis seed oil/glucose/yeast extract ferment filtrate)', 214), ('plantago lanceolata leaf extract', 215), ('adansonia digitata seed oil', 216), ('citrullus lanatus (watermelon) seed oil', 217), ('passiflora edulis seed oil', 218), ('schinziophyton rautanenii kernel oil', 219), ('polyglyceryl-6 ximenia americana seedate', 220), ('sodium hyaluronate crosspolymer', 221), ('ceteareth-20', 222), ('trisodium ethylenediamine disuccinate', 223), ('sodium hydroxide', 224), ('ethylhexylglycerin.', 225), ('100% unrefined sclerocraya birrea (marula) kernel oil.', 226), ('squalane', 227), ('bis-peg-18 methyl ether dimethyl silane', 228), ('sucrose stearate', 229), ('stearyl alcohol', 230), ('peg-8 stearate', 231), ('myristyl myristate', 232), ('pentaerythrityl tetraethylhexanoate', 233), ('prunus armeniaca kernel oil', 234), ('persea gratissima oil', 235), ('olea europaea oil', 236), ('oryza sativa bran oil', 237), ('glyceryl stearate', 238), ('imperata cylindrica root extract', 239), ('palmitic acid', 240), ('acrylates/c10-30 alkyl acrylate crosspolymer', 241), ('propylparaben', 242), ('triethanolamine', 243), ('prunus amygdalus dulcis oil', 244), ('pseudoalteromonas ferment extract', 245), ('hydroxypalmitoyl sphinganine', 246), ('caprylyl glycol.', 247), ('caprylic/capric triglyceride dicaprylyl carbonate squalane rosa canina fruit oil oenothera biennis oil', 248), ('evening primrose oil simmondsia chinensis oil', 249), ('jojoba seed oil coriandrum sativum oil', 250), ('coriander seed oil tocopherol lavandula angustifolia oil', 251), ('lavender oil pelargonium graveolens flower oil linalool rosmarinus officinalis leaf oil', 252), ('rosemary leaf oil citronellol geraniol lavandula hybrida oil cucumis sativus extract', 253), ('cucumber fruit extract curcuma longa extract', 254), ('turmeric root extract limonene citral sclareolide rosa spp', 255), ('rose flower oil jasminum officinale extract', 256), ('jasmine extract helianthus annuus seed oil', 257), ('sunflower seed oil.', 258), ('persea gratissima (extra virgin', 259), ('cold pressed avocado) oil', 260), ('vitis vinifera (organic', 261), ('cold pressed concord grape) seed oil', 262), ('rubus fruticosus (cold pressed blackberry) seed oil', 263), ('salvia hispanica (cold pressed chia) oil', 264), ('dimethyl isosorbide (and) hydroxypinacolone retinoate', 265), ('chamomilla recutita (matricaria) flower oil', 266), ('tanecetum annuum (blue tansy) oil', 267), ('anthemis nobilis (english chamomile) oil', 268), ('eriocephalus punctulatus (cape chamomile) oil', 269), ('citrus aurantium amara (neroli) oil', 270), ('citrus aurantium dulcis (blood orange) oil', 271), ('cananga odorata flower (ylang ylang) oil', 272), ('vetivera zizanoides (vetiver) oil', 273), ('helianthus annuus (sunflower) seed oil (and) rosmarinus officinalis (rosemary) leaf extract', 274), ('ci 61565 (green 6)', 275), ('ci 60725 (violet 2).', 276), ('lactic acid', 277), ('propanediol', 278), ('jojoba esters', 279), ('glycolic acid', 280), ('potassium hydroxide', 281), ('salix alba (willow) bark extract', 282), ('carthamus tinctorius (safflower) oleosomes', 283), ('hibiscus sabdariffa flower extract', 284), ('honey extract', 285), ('echinacea purpurea root extract', 286), ('propolis extract', 287), ('royal jelly extract', 288), ('hydrolyzed sodium hyaluronate', 289), ('argania spinosa kernel oil', 290), ('zingiber officinale (ginger) root extract', 291), ('amaranthus caudatus seed oil', 292), ('limnanthes alba (meadowfoam) seed oil', 293), ('vaccinium myrtillus fruit/leaf extract', 294), ('saccharum officinarum (sugarcane) extract', 295), ('citrus aurantium dulcis (orange) fruit extract', 296), ('citrus limon (lemon) fruit extract', 297), ('acer saccharum (sugar maple) extract', 298), ('melia azadirachta leaf extract', 299), ('helianthus annuus (sunflower) seed oil', 300), ('melia azadirachta flower extract', 301), ('salvia hispanica seed oil', 302), ('arachidyl alcohol', 303), ('sclerotium gum', 304), ('coco-glucoside', 305), ('polyacrylate crosspolymer-6', 306), ('behenyl alcohol', 307), ('arachidyl glucoside', 308), ('corallina officinalis extract', 309), ('polyglyceryl-10 stearate', 310), ('gluconolactone', 311), ('ocimum basilicum (basil) flower/leaf extract', 312), ('ocimum sanctum leaf extract', 313), ('t-butyl alcohol', 314), ('citral.', 315), ('beste™ no.9 jelly cleanser: water', 316), ('sodium lauroyl methyl isethionate', 317), ('cocamidopropyl betaine', 318), ('cocamidopropyl hydroxysultaine', 319), ('sodium methyl oleoyl taurate', 320), ('lauryl glucoside', 321), ('cucumis melo cantalupensis fruit extract', 322), ('dipotassium glycyrrhizate', 323), ('sodium chloride. c-firma™ day serum: water', 324), ('ethoxydiglycol', 325), ('laureth-23', 326), ('lactobacillus/pumpkin ferment extract', 327), ('ferulic acid', 328), ('chondrus crispus extract', 329), ('lactobacillus/punica granatum fruit ferment extract', 330), ('glycyrrhiza glabra (licorice) root extract', 331), ('vitis vinifera (grape) juice extract', 332), ('phyllanthus emblica fruit extract', 333), ('hydrolyzed wheat protein', 334), ('acetyl glucosamine', 335), ('hydrolyzed quinoa', 336), ('glutamylamidoethyl imidazole', 337), ('tetrahydrodiferuloylmethane', 338), ('tetrahydrodemethoxydiferuloylmethane', 339), ('tetrahydrobisdemethoxydiferuloylmethane', 340), ('maltodextrin', 341), ('polysorbate 60. b-hydra™ intensive hydration serum: water,coconut alkanes', 342), ('ammonium acryloyldimethyltaurate/vp copolymer', 343), ('wheat amino acids', 344), ('ananas sativus (pineapple) fruit extract', 345), ('berberis vulgaris root extract', 346), ('citrullus lanatus (watermelon) fruit extract', 347), ('lens esculenta (lentil) fruit extract', 348), ('pyrus malus (apple) fruit extract', 349), ('cyclodextrin', 350), ('hydroxyproline', 351), ('ethylhexylglycerin. t.l.c. framboos™ glycolic night serum: water', 352), ('salicylic acid', 353), ('aloe barbadensis leaf juice', 354), ('opuntia ficus-indica extract', 355), ('aesculus hippocastanum (horse chestnut) seed extract', 356), ('rubus idaeus (raspberry) fruit extract', 357), ('saccharomyces cerevisiae extract', 358), ('buddleja davidii meristem cell culture', 359), ('allantoin', 360), ('hydroxyethylcellulose', 361), ('galactoarabinan', 362), ('hexylene glycol', 363), ('sodium nitrate', 364), ('sodium benzoate. virgin marula luxury facial oil: sclerocarya birrea seed oillala retro™whipped creamwater,glycerin', 365), ('ethylhexylglycerin. umbra™ sheer physical daily defense spf 30: zinc oxide 20%', 366), ('glycerin,pentylene glycol', 367), ('steareth-2', 368), ('steareth-21', 369), ('polyhydroxystearic acid', 370), ('silica', 371), ('haematococcus pluvialis extract', 372), ('helianthus annuus (sunflower) sprout extract', 373), ('simmondsia chinensis (jojoba) seed oil', 374), ('raspberry seed oil/tocopheryl succinate aminopropanediol esters', 375), ('hydrolyzed wheat protein,tocopheryl acetate', 376), ('sea water', 377), ('cetearyl glucoside', 378), ('sodium stearoyl glutamate', 379), ('mica', 380), ('titanium dioxide (ci 77891)', 381), ('iron oxides (ci 77491). shaba complex™ eye serum: water', 382), ('boron nitride', 383), ('saccharomyces/xylinum/black tea ferment', 384), ('coconut alkanes', 385), ('copper tripeptide-1', 386), ('leontopodium alpinum meristem cell culture', 387), ('dipeptide-2', 388), ('copper lysinate/prolinate', 389), ('hesperidin methyl chalcone', 390), ('chondrus crispus (carrageenan)', 391), ('mangifera indica (mango) seed butter', 392), ('glycine soja (soybean) oil', 393), ('hippophae rhamnoides oil', 394), ('ubiquinone', 395), ('thioctic acid', 396), ('methylglucoside phosphate', 397), ('c12-15 alkyl benzoate', 398), ('butyrospermum parkii butter', 399), ('ceramide 3', 400), ('chrysanthemum parthenium extract', 401), ('glycyrrhiza glabra root extract', 402), ('phenoxyethanol.', 403), ('water ', 404), ('dimethicone ', 405), ('butylene glycol ', 406), ('glycerin ', 407), ('trisiloxane ', 408), ('trehalose ', 409), ('sucrose ', 410), ('ammonium acryloyldimethyltaurate/vp copolymer ', 411), ('hydroxyethyl urea ', 412), ('camellia sinensis (green tea) leaf extract ', 413), (\"silybum marianum (lady's thistle) extract \", 414), ('betula alba (birch) bark extract ', 415), ('saccharomyces lysate extract ', 416), ('aloe barbadensis leaf water ', 417), ('thermus thermophillus ferment ', 418), ('caffeine ', 419), ('sorbitol ', 420), ('palmitoyl hexapeptide-12 ', 421), ('sodium hyaluronate ', 422), ('caprylyl glycol ', 423), ('oleth-10 ', 424), ('sodium polyaspartate ', 425), ('saccharide isomerate ', 426), ('hydrogenated lecithin ', 427), ('tocopheryl acetate ', 428), ('acrylates/c10-30 alkyl acrylate crosspolymer ', 429), ('glyceryl polymethacrylate ', 430), ('tromethamine ', 431), ('peg-8 ', 432), ('hexylene glycol ', 433), ('magnesium ascorbyl phosphate ', 434), ('disodium edta ', 435), ('bht ', 436), ('phenoxyethanol ', 437), ('red 4 (ci 14700) ', 438), ('yellow 5 (ci 19140)', 439), ('galactomyces ferment filtrate*', 440), ('butyrospermum parkii (shea) butter', 441), ('phytosteryl/behenyl/octyldodecyl lauroyl glutamate', 442), ('vinyl dimethicone/methicone silsesquioxane crosspolymer', 443), ('sodium acrylate/sodium acryloyldimethyl taurate copolymer', 444), ('benzyl alcohol', 445), ('dimethiconol', 446), ('peg-100 stearate', 447), ('polymethylsilsesquioxane', 448), ('polysorbate 80', 449), ('sodium peg-7 olive oil carboxylate', 450), ('ethylparaben', 451), ('sorbitan oleate', 452), ('peg-7 glyceryl cocoate', 453), ('acanthopanax senticosus (eleuthero) root extract', 454), ('hydrolyzed soy protein', 455), ('cynara scolymus (artichoke) leaf extract', 456), ('polyquaternium-7', 457), ('hydrolyzed yeast protein', 458), ('palmitoyl pentapeptide-4', 459), ('methylsilanol tri-peg-8 glyceryl cocoate', 460), ('methicone', 461), ('ci 77891', 462), ('ci 77492. *pitera™.', 463), ('camellia oleifera seed oil', 464), ('ethylhexyl palmitate', 465), ('mirabilis jalapa extract', 466), ('oxidized corn oil', 467), ('cera alba (beeswax)', 468), ('kigelia', 469), ('africana fruit extract', 470), ('saccharomyces ferment filtrate', 471), ('rubus fruticosus (blackberry) leaf extract', 472), ('litichi chinensis seed extract', 473), ('rosa damascena flower oil', 474), ('adenosine', 475), ('ceteareth-12', 476), ('sodium citrate', 477), ('sodium polyacrylate starch', 478), ('sodium polyacrylate', 479), ('sorbitan laurate', 480), ('tetrasodium edta', 481), ('acetyl dipeptide-1 cetyl ester', 482), ('ci 77891 (titanium dioxide)', 483), ('geraniol.', 484), ('hydrogenated polydecene', 485), ('dipropylene glycol', 486), ('macadamia ternifolia seed oil', 487), ('triethylhexanoin', 488), ('peg-40 stearate', 489), ('saccharomyces/viscum album (mistletoe) ferment extract', 490), ('lactobacillus/soybean ferment extract', 491), ('saccharomyces/imperata cylindrica root ferment extract', 492), ('ceteayl olivate', 493), ('hydrogenated lecithin', 494), ('sorbitan stearate', 495), ('poncirus trifoliata fruit extract', 496), ('*avena sativa (oat) kernel extract', 497), ('*calendula officinalis flower extract', 498), ('*nepeta cataria extract', 499), ('*rubus idaeus (raspberry) leaf extract', 500), ('*baptisia tinctoria root extract', 501), ('*stellaria media (chickweed) extract', 502), ('**alchemilla vulgaris leaf extract', 503), ('**viola tricolor extract', 504), ('**rosa damascena flower extract', 505), ('**spiraea ulmaria flower extract', 506), ('**althaea officinalis root extract', 507), ('symphytum officinale leaf extract', 508), ('trifolium pratense (clover) flower extract', 509), ('achillea millefolium flower extract', 510), ('euphrasia officinalis extract', 511), ('thuja occidentalis leaf extract', 512), ('menyanthes trifoliata leaf extract', 513), ('chelidonium majus extract', 514), ('hydroxyethylpiperazine ethane sulfonic acid', 515), ('glycosyl trehalose', 516), ('hydrogenated starch hydrolysate', 517), ('trisodium edta', 518), ('tromethamine', 519), ('***frgrance', 520), ('citronnellol', 521), ('limonene. *napiers original formula. **napiers moisture formula. ***fragrances of natural origin.', 522), ('peg-4', 523), ('citrus aurantium dulcis (orange) oil**', 524), ('lavandula angustifolia (lavender) oil**', 525), ('pogostemon cablin (patchouli) oil**', 526), ('citrus nobilis (mandarin orange) peel oil**', 527), ('pelargonium graveolens flower oil**', 528), ('boswellia carterii (olibanum) oil***', 529), ('ganoderma lucidum (reishi mushroom) extract', 530), ('fuscoporia obliqua sclerotium extract', 531), ('cordyceps sinensis (mushroom) extract', 532), ('ergothioneine', 533), ('camelina sativa seed oil', 534), ('lactobacillus ferment', 535), ('hippophae rhamnoides extract*', 536), ('zingiber officinale (ginger) root extract*', 537), ('curcuma longa (turmeric) root extract*', 538), ('ocimum sanctum (holy basil) leaf extract', 539), ('helianthus annuus (sunflower) seed oil*', 540), ('silybum marianum fruit extract', 541), ('saccharomyces lysate extract', 542), ('centella asiatica (hydrocotyl) extract', 543), ('hypnea musciformis (algae) extract', 544), ('sucrose*', 545), ('salvia sclarea (clary) extract', 546), ('peg-40 hydrogenated castor oil', 547), ('gellidiella acerosa extract', 548), ('trideceth-9', 549), ('glycereth-26', 550), ('mineral oil/paraffinum liquidum/huile minerale ', 551), ('petrolatum ', 552), ('stearic acid ', 553), ('glyceryl stearate ', 554), ('sesamum indicum (sesame) oil ', 555), ('urea ', 556), ('lanolin alcohol ', 557), ('triethanolamine ', 558), (\"hordeum vulgare (barley) extract/extrait d'orge \", 559), ('cucumis sativus (cucumber) fruit extract ', 560), ('helianthus annuus (sunflower) seedcake ', 561), ('propylene glycol dicaprate ', 562), ('pentylene glycol ', 563), ('trisodium edta ', 564), ('yellow 6 (ci 15985) ', 565), ('yellow 5 (ci 19140) ', 566), ('red 33 (ci 17200)', 567), ('nylon-12', 568), ('phytosteryl/octyldodecyl lauroyl glutamate', 569), ('peg-20 sorbitan cocoate', 570), ('inositol', 571), ('peg-11 methyl ether dimethicone', 572), ('aminomethyl propanol', 573), ('undecylenoyl phenylalanine', 574), ('hydrolyzed prunus domestica', 575), ('hexyldecanol', 576), ('citrus reticulata peel extract/citrus reticulata (tangerine) peel extract', 577), ('ascorbyl glucoside', 578), ('prunus mume fruit extract', 579), ('ci 77891 (titanium dioxide).', 580), ('cetyl ethylhexanoate', 581), ('oryza sativa (rice) bran oil', 582), ('polyglyceryl-10 dioleate', 583), ('polyglyceryl-2 sesquicaprylate', 584), ('camellia japonica seed oil', 585), ('camellia sinensis (green tea) leaf extract', 586), ('algae extract', 587), ('glyceryl behenate/eicosadioate', 588), ('fragrance (natural)', 589), ('alcohol', 590), ('visit the olehenriksen boutique', 591), ('organic argania spinosa (argan) kernel oil*. *organic. **natural.', 592), ('titanium dioxide [nano]', 593), ('titanium dioxide', 594), ('zinc oxide', 595), ('sodium chloride', 596), ('bis-diglyceryl polyacyladipate-2', 597), ('disteardimonium hectorite', 598), ('triethyl citrate', 599), ('ethyl hexanediol', 600), ('canadian colloidal clay', 601), ('moroccan lava clay', 602), ('avena sativa kernel extract', 603), ('oat kernel extract', 604), ('curcuma longa root extract', 605), ('turmeric root extract', 606), ('sulfur', 607), ('persea gratissima fruit extract', 608), ('avocado fruit extract', 609), ('vitis vinifera seed extract', 610), ('grape seed extract', 611), ('salix alba bark extract', 612), ('willow bark extract', 613), ('pentaerythrityl tetra-di-t-butyl hydroxyhydrocinnamate', 614), ('glycine soja sprout extract', 615), ('soybean sprout extract', 616), ('serica extract', 617), ('silk extract', 618), ('perfluoromethylcyclopentane', 619), ('melaleuca alternifolia flower/leaf/stem extract - tea tree flower/leaf/stem extract', 620), ('punica granatum fruit juice', 621), ('charcoal powder', 622), ('lactobacillus/honeysuckle flower/licorice root/morus alba root/pueraria lobata root/schisandra chinensis fruit/scutellaria baicalensis root/sophora japonica flower extract ferment filtrate', 623), ('chlorhexidine digluconate', 624), ('[+/- may contain: ci 77491', 625), ('ci 77492', 626), ('ci 77499', 627), ('iron oxides', 628), ('titanium dioxide].', 629), ('oenothera biennis (evening primrose) root extract', 630), ('prunus armeniaca (apricot) fruit extract', 631), ('beta-glucan', 632), ('chenopodium quinoa seed extract', 633), ('zinc sulfate', 634), ('manganese sulfate', 635), ('calcium chloride', 636), ('potassium alginate', 637), ('ammonium acryloyldimethyltaurate', 638), ('vp copolymer', 639), ('vinyl dimethicone crosspolymer', 640), ('stearyl behenate', 641), ('polyglyceryl-3 methylglucose distearate', 642), ('hydroxypropyl bispalmitamide mea', 643), ('inulin lauryl carbamate', 644), ('blue 1 (ci 42090).', 645), ('dicaprylyl ether', 646), ('sucrose polystearate', 647), ('phytosphingosine', 648), ('glyceryl undecylenate', 649), ('trisiloxane', 650), ('potassium cetyl phosphate', 651), ('polyacrylate-13', 652), ('polyisobutene', 653), ('propylene glycol', 654), ('acrylates', 655), ('c10-30 alkyl acrylate crosspolymer', 656), ('peg-5 rapeseed sterol', 657), ('hydroxyethyl acrylate', 658), ('sodium acryloyldimethyl taurate copolymer', 659), ('hydrogenated polyisobutene', 660), ('squalane (olive origin)', 661), ('inositol (rice extract)', 662), ('sericin (silk extract)', 663), ('oryza sativa (rice) germ oil', 664), ('chondrus crispus (red algae) extract', 665), ('panax ginseng root extract', 666), ('zizyphus jujuba fruit extract', 667), ('thymus serpillum (thyme) extract', 668), ('scutellaria baicalensis root extract', 669), ('polyglyceryl-2 diisostearate', 670), ('ppg-5-ceteth-10 phosphate', 671), ('trideceth-12', 672), ('sodiumlauroyl lactylate', 673), ('phytosteryl macadamiate', 674), ('sd alcohol 40-b (alcohol denat.)', 675), ('isododecane', 676), ('beheneth-20', 677), ('fragrance (parfum)', 678), ('peg/ppg-17/4 dimethyl ether', 679), ('butylphenyl methylpropional', 680), ('sodium metaphosphate', 681), ('sapindus mukurossi peel extract (sapindus mukurossi)', 682), ('alpha-isomethyl ionone', 683), ('benzyl benzoate', 684), ('hexyl cinnamal', 685), ('uncaria gambir extract (uncaria gambir)', 686), ('sodium acetylated hyaluronate', 687), ('iron oxides (ci 77491)', 688), ('hypericum erectum extract', 689), ('chlorella vulgaris extract.', 690), ('parfum/fragrance', 691), ('hydroxyacetophenone', 692), ('bakuchiol', 693), ('leontopodium alpinum callus culture extract', 694), ('peg-75 stearate', 695), ('ceteth-20', 696), ('enteromorpha compressa extract', 697), ('santalum album (sandalwood) extract', 698), ('chamomilla recutita (matricaria) flower extract', 699), ('saccharum officinarum (sugar cane) extract', 700), ('leuconostoc/radish root ferment filtrate', 701), ('sodium phytate', 702), ('violet 2 (ci 60730)', 703), ('red 4 (ci 14700)', 704), ('silybum marianum (milk thistle) seed oil', 705), ('nigella sativa (black cumin) seed oil', 706), ('cucumis sativus (cucumber) seed oil', 707), ('diisopropyl sebacate', 708), ('punica granatum (pomegranate) seed oil', 709), ('vaccinium macrocarpon (cranberry) seed oil', 710), ('dimethyl isosorbide', 711), ('linum usitatissimum (flax) seed oil', 712), ('caprylic/capric triglycerides', 713), ('ethyl linoleate', 714), ('hexylresorcinol', 715), ('prunus armeniaca (apricot) kernel oil', 716), ('chamomilla recutita flower oil', 717), ('citrus aurantium amara (neroli) flower oil', 718), ('melaleuca alternifolia (tea tree) leaf oil', 719), ('helianthus annuus seed oil', 720), ('rosmarinus officinalis (rosemary) leaf extract', 721), ('citrus paradisii (grapefruit) peel oil', 722), ('melia azadirachta (neem) leaf extract', 723), ('melia azadirachta (neem) flower extract', 724), ('coccinia indica fruit extract', 725), ('amino esters-1', 726), ('amber leaf extract', 727), ('solanum melongena (eggplant) fruit extract', 728), ('aloe barbadensis flower extract', 729), ('lawsonia inermis (henna) extract', 730), ('ocimum basilicum (basil) leaf extract', 731), ('pearl powder', 732), ('moringa pterygosperma seed oil.', 733), ('caulerpa lentillifera (seaweed) extract', 734), ('simethicone', 735), ('citrullus lanatus (watermelon) fruit', 736), ('cucurbita pepo (pumpkin) fruit extract', 737), ('punica granatum (pomegranate) fruit extract', 738), ('musa sapientum (banana) fruit extract ', 739), ('paeonia suffruticosa (peony) root extract', 740), ('brassica oleracea capitata (cabbage) leaf extract', 741), ('ipomoea batatas (sweet potato) root extract', 742), ('betaine', 743), ('beta glucan', 744), ('aloe barbadensis (aloe vera) leaf juice', 745), ('isoamyl laurate', 746), ('rosa damascena (rose) flower water', 747), ('glyceryl stearate citrate', 748), ('populus tremuloides (aspen) bark extract', 749), ('aleurites moluccana (kukui) nut oil', 750), ('myrothamnus flabellifolia extract', 751), ('cocos nucifera (coconut) extract', 752), ('butyrospermum parkii (shea) nut butter', 753), ('oryza sativa (rice) seed extract', 754), ('camellia sinensis (white tea) leaf extract', 755), ('rosa damascena (rose) flower oil', 756), ('sodium anisate.', 757), ('hydrolyzed jojoba esters', 758), ('caprylic/capric triglyceride,propanediol', 759), ('tamarindus indica(tamarind) seed gum', 760), ('ethyl macadamiate', 761), ('sodium acrylates copolymer (and) lecithin', 762), ('adipic acid/neopentyl glycol crosspolymer', 763), ('lauryl dimethicone', 764), ('strelitzia nicolai (bird of paradise flower) seed aril extract', 765), ('alpha-arbutin', 766), ('papain (and) carbomer 1 (and) 2-hexanediol (and) caprylyl glycol (and) algin', 767), ('cucumis sativus (cucumber) extract', 768), ('melia azadirachta (neem) leaf extract (and) melia azadirachta flower (neem) extract (and) mimosa terniflora extract (and) amber extract (and) coccinia indica fruit extract (and) solanum melongena (eggplant) fruit extract', 769), ('aloe barbadensis flower extract (and) lawsonia inermis extract (and) ocimum sanctum leaf (holy basil) extract', 770), ('synthetic fluorphlogopite', 771), ('chlorphenesin.', 772), ('vitis vinifera (grape) fruit water*', 773), ('vitis vinifera (grape) juice*', 774), ('nitrogen. *plant origin.', 775), ('purified water', 776), ('helianthus annuus (sunflower) oil', 777), ('octyl palmitate', 778), ('rhodiola rosea', 779), ('ocimum tenuiflorum (holy basil)', 780), ('withania somnifera (ashwagandha)', 781), ('ganoderma lucidum (reishi mushroom)', 782), ('glyceryl mono laurate', 783), ('squalane (olive)', 784), ('simmondsia chineses (jojoba) seed oil', 785), ('pentapeptide-59', 786), ('phenethyl alcohol', 787), ('mixed tocopherols', 788), ('prunus amygdalus dulcis (sweet almond) oil', 789), ('borago officinalis (borage) oil', 790), ('caramel color', 791), ('xanthan gum.', 792), ('polydecene', 793), ('brassica campestris (rapeseed) seed oil', 794), ('oxycoccus palustris (cranberry) seed oil', 795), ('olea europaea (olive) fruit oil', 796), ('laminaria ochroleuca extract', 797), ('laminaria saccharina extract', 798), (\"sigesbeckia orientalis (st. paul's wort) extract\", 799), ('magnolia officinalis bark extract', 800), ('yeast extract/faex/extrait de levure', 801), ('commiphora mukul resin extract', 802), ('molasses extract/saccharum officinarum/extrait de melasse', 803), ('amyl cinnamal', 804), ('coumarin', 805), ('yellow 6 (ci 15985)', 806), ('pistacia lentiscus (mastic) gum', 807), ('rosa damascena flower extract', 808), ('caprylic/capric triglycerides.', 809), ('peg-10 dimethicone', 810), ('alumina', 811), ('diamond powder', 812), ('iron oxides.', 813), ('methyl trimethicone', 814), ('citrus limon (lemon) peel oil*', 815), ('citrus grandis (grapefruit) peel oil*', 816), ('mentha viridis (spearmint) leaf oil*', 817), ('simmondsia chinensis (jojoba) butter', 818), ('castanea sativa (chestnut) seed extract', 819), ('rubus idaeus (raspberry) leaf wax', 820), ('coleus barbatus extract', 821), (\"hordeum vulgare (barley) extract\\\\extrait d'orge\", 822), ('triticum vulgare (wheat) germ extract', 823), ('panax ginseng (ginseng) root extract', 824), ('foeniculum vulgare (fennel) seed extract', 825), ('phospholipids', 826), ('pantethine', 827), ('calcium carbonate', 828), ('phenoxyethanol. *essential oil.', 829), ('rosa damascena flower water', 830), ('hamamelis virginiana (witch hazel) water', 831), ('peg-7 caprylic/capric glycerides', 832), ('xylitol', 833), ('citrus aurantium dulcis (orange) oil', 834), ('lavandula angustifolia (lavender) oil', 835), ('cedrus atlantica bark oil', 836), ('pelargonium graveolens flower oil', 837), ('carica papaya (papaya) fruit water', 838), ('jasminum officinale (jasmine) oil', 839), ('illicium verum (anise) fruit/seed oil', 840), ('artemisia absinthium extract', 841), ('rose flower oil', 842), ('ferula galbaniflua (galbanum) resin oil', 843), ('eucalyptus globulus leaf extract', 844), ('lavandula angustifolia (lavender) flower/leaf/stem extract', 845), ('melaleuca alternifolia (tea tree) leaf extract', 846), ('melissa officinalis leaf (green tea) extract ', 847), ('mentha piperita(peppermint) leaf extract', 848), ('mentha rotundifolia leaf extract', 849), ('mentha spicata flower/leaf/stem extract', 850), ('origanum majorana leaf extract', 851), ('origanum vulgare leaf extract', 852), ('pelargonium graveolens extract', 853), ('thymus vulgaris (thyme) leaf extract', 854), ('decyl glucoside', 855), ('ppg-26-buteth-26', 856), ('octanediol', 857), ('copaifera officinalis (balsam copaiba) resin', 858), ('protease', 859), ('saccharomyces/camellia sinensis leaf/cladosiphon okamuranus/rice ferment filtrate*', 860), ('isononyl isononanoate', 861), ('sericin', 862), ('hydrolyzed conchiolin protein', 863), ('rubus ellipticus root extract', 864), ('thymus serpyllum extract', 865), ('polyglyceryl-2 triisostearate', 866), ('batyl alcohol', 867), ('bis-behenyl/isostearyl/phytosteryl dimer dilinoleyl dimer dilinoleate', 868), ('biosaccharide gum-1', 869), ('phenoxyethanol. *hadasei-3.', 870), ('3-o-ethyl ascorbic acid', 871), ('ammonium acryloyldimethyltaurate/beheneth-25 methacrylate crosspolymer', 872), ('hippophae rhamnoides extract', 873), ('lycium barbarum fruit extract', 874), ('rosa canina fruit extract', 875), ('camellia japonica flower extract', 876), ('aroma/flavor', 877), ('hyaluronic acid', 878), ('vegetable collagen', 879), ('benzyl alcohol.', 880), ('phyllostachis bambusoides juice', 881), ('arbutin', 882), ('lauryl peg-9 polydimethylsiloxyethyl dimethicone', 883), ('acrylates/ethylhexyl acrylate/dimethicone methacrylate copolymer', 884), ('polymethyl methacrylate', 885), ('aluminium hydroxide', 886), ('isostearic acid', 887), ('isopropyl palmitate', 888), ('polyglyceryl-3 polyricinoleate', 889), ('acrylates/stearyl acrylate/dimethicone methacrylate copolymer', 890), ('trimethylsiloxysilicate', 891), ('ethylhexyglycerin', 892), ('camillia sinensis leaf extract', 893), ('iron oxides (ci 77492', 894), ('ci77499).', 895), ('centella asiatica leaf water', 896), ('methyl methacrylate crosspolymer', 897), (\"beeswax/cire d'abeille\", 898), ('diethylhexyl carbonate', 899), ('pan-thenol', 900), ('diglycerin', 901), ('polyglyceryl-4 diisostearate/polyhydroxystearate/sebacate', 902), ('dimethicone/vinyl dimethi- cone crosspolymer', 903), ('ethylene/methacrylate copolymer', 904), ('acrylates/ammonium methacrylate copolymer', 905), ('acrylates/dimethicone copolymer', 906), ('hydrogen dimethicone', 907), ('chromium oxide greens', 908), ('fragaria vesca (strawberry) leaf extract', 909), ('asiaticoside', 910), ('aden- osine', 911), ('asiatic acid', 912), ('madecassic acid', 913), ('rosmarinus officinalis (rosemary) leaf oil', 914), ('1,2- hexanediol', 915), ('anthemis nobilis flower oil', 916), ('houttuynia cordata extract', 917), ('centella asiatica extract', 918), ('gentiana lutea root extract', 919), ('achillea millefolium extract', 920), ('arnica montana flower extract', 921), ('aniba rosodora (rosewood) wood oil', 922), ('sodium glycerophosphate', 923), ('selaginella lepidophylla extract', 924), ('potassium magnesium aspartate', 925), ('madecassoside', 926), ('centella asiatica meristem cell culture', 927), ('zinc oxide.', 928), ('dicaprylyl ether*', 929), ('glycerin*', 930), ('butyrospermum parkii (shea butter) extract*', 931), ('hexyldecanol*', 932), ('hexyldecyl laurate*', 933), ('behenyl alcohol*', 934), ('glyceryl stearate*', 935), ('erythritol', 936), ('parfum (fragrance)', 937), ('tocopherol*', 938), ('lecithin*', 939), ('mannitol*', 940), ('palmitoyl grape seed extract*', 941), ('glycine soja (soybean) sterols*', 942), ('chamomilla recutita (matricaria) flower extract*', 943), ('sodium carboxymethyl betaglucan', 944), ('sodium phytate*', 945), ('homarine hcl', 946), ('glyceryl caprylate*', 947), ('acetyl tetrapeptide-15. *plant origin.', 948), ('cyclomethicone', 949), ('ci 77492/iron oxides', 950), ('mel/honey extract', 951), ('talc', 952), ('trihydroxystearin', 953), ('polyester-1', 954), ('silica dimethyl silylate', 955), ('eugenol', 956), ('ci 77491/iron oxides', 957), ('ci 77499/iron oxides.', 958), ('tetrahexyldecyl ascorbate (vitamin c)', 959), ('c10-18 triglycerides', 960), ('peg-8 beeswax', 961), ('tapioca starch', 962), ('ppg-12 smdi copolymer', 963), ('polyglyceryl-6 distearate', 964), ('sodium acrylates copolymer', 965), ('polyglyceryl-3 beeswax', 966), ('microcitrus australasica fruit (lime pearl) extract', 967), ('alteromonas ferment extract (exopolysaccharides)', 968), ('terminalia ferdinandiana fruit (kakadu plum) extract', 969), ('bisabolol', 970), ('citrus reticulata (tangerine) peel oil', 971), ('rosa centifolia flower wax', 972), ('rosa damascena flower wax', 973), ('alcohol denat (found in botanical extracts)', 974), ('citrus junos fruit (yuzu) extract', 975), ('lippia citriodora flower (lemon verbena) extract', 976), ('euterpe oleracea (acai) fruit', 977), ('butyrospermum parkii (shea) butter extract', 978), ('rosa canina fruit (rosehips)extract', 979), ('oenothera biennis (evening primrose) seed extract', 980), ('camellia sinensis leaf (oolong tea).', 981), ('chlorhexidine digluconate. [+/-: mica (ci 77019)', 982), ('ci 77499)].', 983), ('ziziphus jujuba fruit extract', 984), ('stearyl glycyrrhetinate', 985), ('sodium lauroyl lactylate', 986), ('peg-240/hdi copolymer bis-decyltetradeceth-20 ether', 987), ('cetyl ricinoleate', 988), ('cetyl esters', 989), ('cucumis sativus (cucumber) fruit extract', 990), ('ceramide ng', 991), ('tin oxide', 992), ('acrylamide/sodium acryloyldimethyltaurate copolymer', 993), ('magnesium ascorbyl phosphate', 994), ('[+/- mica', 995), ('iron oxides (ci 77499)', 996), ('iron oxides (ci 77492)]', 997), ('hydrogenated poly(c6-14 olefin)', 998), ('1', 999), ('2-hexanediol', 1000), ('bifida ferment lysate', 1001), ('vegetable oil', 1002), ('ceramide np', 1003), ('eclipta prostrata leaf extract', 1004), ('microcrystalline cellulose', 1005), ('c12-16 alcohols', 1006), ('malt extract', 1007), ('beta vulgaris (beet) root extract', 1008), ('throbroma caco (cocoa) seed extract', 1009), ('curuma longa (turmeric) root extract', 1010), ('amaranthus caudatus seed extract', 1011), ('ulmus davidiana root extract', 1012), ('avena sativa (oat) kernel extract', 1013), ('pteris multifida extract', 1014), ('artemisia vulgaris extract', 1015), ('pyracantha fortuneana fruit extract', 1016), ('glycerly polymethacrylate', 1017), ('hydrolyzed corn starch', 1018), ('fructooligosaccharides', 1019), ('dextrin', 1020), ('raffinose', 1021), ('salvia officinalis (sage) oil', 1022), ('pogostemon cablin oil', 1023), ('ceramide ap', 1024), ('ceramide as', 1025), ('ceramide ns', 1026), ('ceramide eop.', 1027), ('vaccinium corymbosum (cold pressed blueberry) seed oil', 1028), ('vitis vinifera (cold pressed chardonnay grape seed oil) seed oil', 1029), ('vaccinium macrocarpon (cold pressed cranberry) seed oil', 1030), ('rubus idaeus (cold pressed red raspberry) seed oil', 1031), ('daucus carota sativa (cold pressed wild carrot) seed oil', 1032), ('nigella sativa (cold pressed black cumin) seed oil', 1033), ('brassica oleracea italic (cold pressed broccoli) seed oil', 1034), ('limnanthes alba (meadowfoam) seed oil.', 1035), ('zinc oxide (ci 77947)', 1036), ('ethylhexyl methoxycinnamate', 1037), ('iron oxides (ci 77492)', 1038), ('titanium dioxide (ci 77891 ', 1039), ('hdi/trimethylol hexyllactone crosspolymer', 1040), ('yeast extract', 1041), ('mica (ci 77019)', 1042), ('polypropylsilsesquioxane', 1043), ('ascorbyl glucoside.', 1044), ('camellia sinensis leaf water', 1045), ('pentaerythrityl tetraisostearate', 1046), ('tricholoma matsutake extract', 1047), ('punica granatum extract', 1048), ('opuntia coccinellifera fruit extract', 1049), ('iris florentina root extract', 1050), ('lagerstroemia indica flower extract', 1051), ('gossypium herbaceum (cotton) extract', 1052), ('oryza sativa (rice) germ extract', 1053), ('magnolia obovata bark extract', 1054), ('nelumbo nucifera flower extract', 1055), ('camellia sinensis leaf powder', 1056), ('theanine', 1057), ('epigallocatechin gallate', 1058), ('sorbitol', 1059), ('polyglutamic acid', 1060), ('kaolin', 1061), ('glyceryl polymethacrylate', 1062), ('peg-8', 1063), ('sodium polyacryloyldimethyl taurate', 1064), ('saccharide isomerate', 1065), ('olea europaea (olive) leaf powder', 1066), ('avena sativa (oat) bran extract', 1067), ('menthoxypropanediol', 1068), ('honey/mel/miel', 1069), ('camellia sinensis (green tea) leaf powder', 1070), ('buteth-3', 1071), ('trideceth-10', 1072), ('benzophenone-4', 1073), ('sodium benzotriazolyl butylphenol sulfonate', 1074), ('cocos nucifera (coconut) fruit extract', 1075), ('tris(tetramethylhydroxypiperidinol) citrate', 1076), ('c13-15 alkane', 1077), ('theobroma grandflorum seed butter', 1078), ('paeonia suffruticosa root extract', 1079), ('viscum album (mistletoe) leaf extract', 1080), ('ocimum balsilicum (basil) flower/leaf extract', 1081), ('capryloyl glycerin/sebacic acid copolymer', 1082), ('eclipta prostrata extract', 1083), ('flavor', 1084), ('glyceryl polyacrylate', 1085), ('agar', 1086), ('calcium alginate', 1087), ('iron oxide (ci 77492)', 1088), ('methyl gluceth-20', 1089), ('diheptyl succinate', 1090), ('ceramide eop', 1091), ('ceramide eos', 1092), ('sambucus nigra fruit extract', 1093), ('ascorbyl palmitate', 1094), ('caprooyl phytosphingosine', 1095), ('caprooyl sphingosine', 1096), ('saccharomyces/magnesium ferment', 1097), ('saccharomyces/iron ferment', 1098), ('saccharomyces/copper ferment', 1099), ('saccharomyces/silicon ferment', 1100), ('saccharomyces/zinc ferment', 1101), ('behenic acid', 1102), ('ceteareth-25', 1103), ('dimethicone/peg-10/15 crosspolymer', 1104), ('diso- dium edta', 1105), ('mica.', 1106), ('ethylhexyl isononanoate', 1107), ('caprylic/capric/myristic/stearic triglyceride', 1108), ('polyethylene', 1109), ('peg/ppg-20/15 dimethicone', 1110), ('phenyl methicone', 1111), ('portulaca oleracea extract', 1112), ('cocos nucifera (coconut) oil', 1113), ('peg-150 distearate', 1114), ('glycosphingolipids', 1115), ('meadowfoam estolide', 1116), ('aleuritic acid', 1117), ('glycoproteins', 1118), ('retinyl retinoate', 1119), ('polylactic acid', 1120), ('canola oil', 1121), ('cholesteryl nonanoate', 1122), ('ascorbyl tetraisopalmitate', 1123), ('chamomilla recutita (matricaria) flower water', 1124), ('eruca sativa leaf extract', 1125), ('glyceryl citrate/lactate/linoleate/oleate', 1126), ('glycine soja (soybean) sterols', 1127), ('phytosteryl/isostearyl/cetyl/stearyl/behenyl dimer dilinoleate', 1128), ('santalum album (sandalwood) oil', 1129), ('stearyl stearate', 1130), ('citrus paradisi (grapefruit) peel oil', 1131), ('cymbopogon citratus leaf oil', 1132), ('pelargonium graveolens oil', 1133), ('caramel', 1134), ('linalool.', 1135), ('citrus limon (lemon) peel oil', 1136), ('osmanthus fragrans flower extract', 1137), ('ormenis multicaulis flower wax', 1138), ('sodium carbonate', 1139), ('cocos nucifera (coconut) fruit juice', 1140), ('vanilla planifolia fruit extract', 1141), ('coffea arabica (coffee) seed extract', 1142), ('dipteryx odorata seed extract', 1143), ('chrysanthemum parthenium (feverfew) extract', 1144), ('dimethicone crosspolymer', 1145), ('ci 77491 (iron oxides).', 1146), ('tribehenin peg-20 esters', 1147), ('myristic acid', 1148), ('cholesteryl oleyl carbonate', 1149), ('lactobacillus/dipteryx odorata seed ferment filtrate', 1150), ('cholesteryl isostearate', 1151), ('cholesteryl chloride', 1152), ('sophora japonica flower extract', 1153), ('aspergillus/saccharomyces/rice ferment filtrate', 1154), ('hizikia fusiforme extract', 1155), ('chlorella minutissima extract', 1156), ('spirulina platensis extract', 1157), ('codium fragile extract', 1158), ('ulva lactuca extract', 1159), ('fucus vesiculosus extract', 1160), ('gelidium cartilagineum extract', 1161), ('macrocystis pyrifera extract', 1162), ('lactobacillus/algae extract ferment', 1163), ('codium tomentosum extract', 1164), ('sargassum muticum extract', 1165), ('pikea robusta extract', 1166), ('agarum cribosum extract', 1167), ('hydrolyzed algae extract', 1168), ('laminaria japonica extract', 1169), ('hydrolyzed ulva lactuca extract', 1170), ('porphyra yezoensis extract', 1171), ('chlorella ferment', 1172), ('ecklonia cava extract', 1173), ('dunaliella salina extract', 1174), ('undaria pinnatifida extract', 1175), ('laminaria cloustoni extract', 1176), ('sargassum fulvellum extract', 1177), ('hypnea musciformis extract', 1178), ('jania rubens extract', 1179), ('aspergillus/rice ferment extract', 1180), ('rice ferment filtrate (sake)', 1181), ('lactobacillus/centella asiatica/gleditsia sinensis thorn/houttuynia cordata extract/phellodendron amurense bark/polygonum cuspidatum root/prunella vulgaris/torilis japonica extract ferment filtrate', 1182), ('phaseolus angularis seed extract', 1183), ('saccharomyces/camellia sinensis extract ferment filtrate', 1184), ('lactobacillus/rice ferment filtrate', 1185), ('bacillus/cordyceps sinensis/ganoderma lucidum/inonotus obliquus/lentinus edodes/phellinus linteus/schizophyllum commune/tricholoma matsutake extract ferment filtrate', 1186), ('algae oligosaccharides', 1187), ('macrocystis pyrifera (kelp) protein', 1188), ('chlorhexidine digluconate.', 1189), ('sd alcohol 40-b', 1190), ('polybutylene glycol/ppg-9/1 copolymer', 1191), ('bentonite', 1192), ('sapindus mukurossi peel extract', 1193), ('uncaria gambir extract', 1194), ('thymus serpillum extract', 1195), ('peg-5 glyceryl stearate', 1196), ('sodium metabisulfite', 1197), ('cyclopentasiloxane ', 1198), ('cetyl ethylhexanoate ', 1199), ('squalane ', 1200), ('disteardimonium hectorite ', 1201), ('peg/ppg-18/18 dimethicone ', 1202), ('lauryl peg-9 polydimethylsiloxyethyl dimethicone ', 1203), ('ahnfeltia concinna extract ', 1204), ('olea europaea (olive) fruit extract ', 1205), ('whey protein/lactis protein/proteine du petit-lait ', 1206), ('cholesterol ', 1207), ('peg-150 ', 1208), ('pyridoxine dipalmitate ', 1209), ('linoleic acid ', 1210), ('citric acid ', 1211), ('polysilicone-11 ', 1212), ('propylene carbonate ', 1213), ('aloe barbadensis leaf extract ', 1214), ('triticum vulgare (wheat) bran extract ', 1215), ('pentaerythrityl tetra-di-t-butyl hydroxyhydrocinnamate ', 1216), ('sodium citrate ', 1217), ('sodium hexametaphosphate ', 1218), ('chlorphenesin ', 1219), ('**natural.', 1220), ('tillandsia usneoides extract', 1221), ('ceratonia siliqua (carob) fruit extract', 1222), ('pca dimethicone', 1223), ('visit the la mer boutique', 1224), ('mandelic acid', 1225), ('ethlhexyl palmitate', 1226), ('evodia rutaecarpa fruit extract', 1227), ('faex/yeast extract/extrait de levure', 1228), ('opuntia coccinellifera flower extract', 1229), ('silanetriol', 1230), ('sorbic acid', 1231), ('bismuth oxychloride (ci 77163).', 1232), ('l-tyrosine', 1233), ('dimethyl mea (dmae)', 1234), ('phosphatidylcholine', 1235), ('thioctic acid (alpha-lipoic acid)', 1236), ('rosa moschata (rosehip) seed oil', 1237), ('saccaromyces ferment', 1238), ('magnesium aspartate', 1239), ('rhodiola rosea root extract', 1240), ('phytic acid', 1241), ('carnosine', 1242), ('elaeis guineensis (palm) oil', 1243), ('astaxanthin', 1244), ('tocotrienols', 1245), ('alanyl glutamine.', 1246), ('apricot kernel oil', 1247), ('zea mays starch', 1248), ('corn starch', 1249), ('shea butter', 1250), ('cera alba', 1251), ('beeswax', 1252), ('cire dabeille', 1253), ('ci 14700', 1254), ('red 4', 1255), ('ci 19140', 1256), ('yellow 5', 1257), ('saccharomyces/xylinum/ black tea ferment', 1258), ('hydrolyzed linseed extract', 1259), ('acetyl tetrapeptide-9', 1260), ('poloxamer 338', 1261), ('sorbitan tristearate', 1262), ('myristyl alcohol', 1263), ('hydrogentated polyisobutene', 1264), ('chlorella protothecoides oil', 1265), ('algae exopolysaccharides', 1266), ('cynara scrolymus (artichoke) leaf extract', 1267), ('astragalus membranaceous root extract', 1268), ('atractyloides macrocephala root extract', 1269), ('bupleurum falcatum root extract', 1270), ('methyl glucoside phosphate proline lysine copper complex', 1271), ('stearalkonium bentonite', 1272), ('propylene carbonate', 1273), ('coumarin.', 1274), ('centellaasiaticaleafwater', 1275), ('caprylic/ca- prictriglyceride', 1276), ('diisostearylmalate', 1277), ('polyglyceryl-3 methylglucose dis- tearate', 1278), ('butyrospermum parkii (shea) bu-tter', 1279), ('glycerylstearate', 1280), ('mac- adamiaternifolia seed oil', 1281), ('cetearyl alco-hol', 1282), ('hydrogenatedpoly(c6-14 olefin)', 1283), ('hy- drogenated polydecene', 1284), ('hydrogenatedpolyisobutene', 1285), ('palm-iticacid', 1286), ('tocopherylacetate', 1287), ('stearicacid', 1288), ('phe-noxyethanol', 1289), ('madecassic a-cid', 1290), ('asiaticacid', 1291), ('spirulina platensispow- der', 1292), ('polysorbate20', 1293), ('ethylhexylgl-ycerin', 1294), ('lavandulaangustifolia (lavender) oil', 1295), ('cer-amidenp', 1296), ('citrusgrandis (grapefruit) peel oil', 1297), ('hydrogenatedlecithin', 1298), ('rosmarinus officinalis (rosemary) leafoil', 1299), ('anthemisnobilis flower oil', 1300), ('sodiumhya-luronate', 1301), ('centellaasiatica extract', 1302), ('theob-roma cacao (cocoa) extract', 1303), ('ho- uttuyniacordataextract', 1304), ('anibarosodora (rosewood)wood oil', 1305), ('centella asiaticameristem cell culture', 1306), ('ar-temisia absinthium extract', 1307), ('arnicamonta-na flower extract', 1308), ('gentiana lutearoot extract', 1309), ('sucrose laurate', 1310), ('sodium glycero-phosphate', 1311), ('selaginella lepidophylla extr- act', 1312), ('potassiummagnesiumaspartate', 1313), ('ly-solecithin', 1314), ('magnesiumgluconate', 1315), ('calciumgluconate', 1316), ('sodiumascorbylphosphate', 1317), ('sodiumbenzoate', 1318), ('water**', 1319), ('aloe barbadensis (aloe vera) leaf juice*', 1320), ('argania spinosa (argan) kernel oil*', 1321), ('glyceryl stearate**', 1322), ('glycerin**', 1323), ('cetyl alcohol**', 1324), ('ethylhexyl palmitate**', 1325), ('dicapryl carbonate**', 1326), ('butyrospermum parkii (shea butter)**', 1327), ('hydroxyethyl acrylate/sodium acryloyl dimethyl taurate copolymer**', 1328), ('caprylic/ capric triglyceride**', 1329), ('xylitylglucoside**', 1330), ('anhydroxylitol**', 1331), ('sodium stearoyl glutamate**', 1332), ('squalane**', 1333), ('glyceryl caprylate**', 1334), ('stearic acid**', 1335), ('polys/orbate-60**', 1336), ('glyceryl undecylenate**,cucumis sativus (cucumber) fruit extract**', 1337), ('xanthan gum**', 1338), ('sodium hyaluronate**', 1339), ('lysolecithin**', 1340), ('citrullus lanatus (watermelon) extract**', 1341), ('sclerotium gum**', 1342), ('tocopherol**', 1343), ('sodium phytate**', 1344), ('potassium sorbate**', 1345), ('glycine soja (soybean) oil**', 1346), ('allantoin**', 1347), ('ethylhexylglycerin**', 1348), ('panthenol**', 1349), ('pullulan**', 1350), ('citric acid**.', 1351), ('helianthus annuss (ssunflower) seed oil', 1352), ('rosa canina fruit oil', 1353), ('oenothera biennis (evening primrose) oil', 1354), ('triticum vulgare (wheat) germ oil', 1355), ('carmbomer', 1356), ('citrus grandis (grapefruit) fruit extract', 1357), ('calendula officinalis flower extract', 1358), ('tocopeherol', 1359), ('red 40 (ci 16035)', 1360), ('limonene. linalool.', 1361), ('coco-caprylate', 1362), ('dextrin palmitate', 1363), ('sorbitan sesquioleate', 1364), (\"patented echinacea purpurea 'greenenvytm' root extract\", 1365), ('crambe abyssinica seed oil', 1366), ('amber powder', 1367), ('amino-esters-1', 1368), ('bidens pilosa extract', 1369), ('cananga odorata flower oil', 1370), ('cardiospermum halicacabum flower/leaf/vine extract', 1371), ('corcuma longa (turmeric) root extract', 1372), ('echinacea purpurea extract', 1373), ('gossypium herbaceum (cotton) seed oil', 1374), ('helianthus annuus (sunflower) seed oil unsaponifiables', 1375), ('linum usitatissimum (linseed) seed oil', 1376), ('moringa oleifera seed oil', 1377), ('ormenis multicaulis (chamomile) flower oil', 1378), ('ribes nigrum (black currant) seed oil', 1379), ('silica silylate', 1380), ('spilanthes acmella flower extract', 1381), ('water (aqua)', 1382), ('zingier officinale (ginger) root oil.', 1383), ('citrus aurantium dulcis (orange) peel oil*', 1384), ('pelargonium graveolens flower oil*', 1385), ('lavandula angustifolia (lavender) oil*', 1386), ('amyris balsamifera bark oil*', 1387), ('citrus aurantium bergamia (bergamot) fruit oil*', 1388), ('eugenia caryophyllus (clove) leaf oil*', 1389), ('rosa damascena flower oil*', 1390), ('eucalyptus globulus leaf oil*', 1391), ('zingiber officinale (ginger) root oil*', 1392), ('epilobium angustifolium flower/leaf/stem extract', 1393), ('cistus incanus flower/leaf/stem extract', 1394), ('sucrose**', 1395), ('bambusa vulgaris (bamboo) extract', 1396), ('pisum sativum (pea) extract', 1397), ('albizia julibrissin bark extract', 1398), ('glucosamine hcl', 1399), (\"beeswax/cera alba/cire d'abeille\", 1400), ('iron oxides (ci 77491)*', 1401), ('organic sucrose (brown sugar). essential oil**.', 1402), ('rosa canina (rosehip) seed oil', 1403), ('salvia hispanica (chia) seed oil', 1404), ('coq10', 1405), ('hippophae rhamnoides l (sea buckthorn) oil', 1406), ('tocopherol (vitamin e)', 1407), ('rosa centifolia flower extract (rose extract)', 1408), ('citrus aurantium (neroli) oil.', 1409), ('xantahn gum', 1410), ('vaccinium myrtillus (bilberry) fruit extract', 1411), ('acer saccarum (sugar maple) extract', 1412), ('sodium dehydroacetate', 1413), ('sodium levulinate', 1414), ('calcium ascorbate', 1415), ('sodium anisate', 1416), ('calcium threonate', 1417), ('benzyl benzoate.', 1418), ('polyglycerin-3', 1419), ('peg-240/hdi copolymer bis-decyltetradecet-20 ether', 1420), ('polymethylsilsequioxane', 1421), ('calluna vulgaris extract', 1422), ('dispacus sylvestris extract', 1423), ('crysanthemum parthenium (feverfew) extract', 1424), ('avena sative (oat) kernel extract*', 1425), ('calendula officinalis flower extract*', 1426), ('nepeta cataria extract*', 1427), ('rubus idaeus (raspberry) leaf extract*', 1428), ('baptisia tinctoria root extract*', 1429), ('stellaria media (chickweed( extract*+', 1430), ('triticum vulgare (wheat) sprout extract', 1431), ('alchemilla vulgaris leaf extract+', 1432), ('equisetum arvense leaf extract+', 1433), ('urticadioicia (nettle) leaf extract+', 1434), ('melia azadirachta flower extract,coccinia indica fruit extract', 1435), ('simmondsia chinesis (jojoba) seed oil', 1436), ('curcuma longa (tumeric) root extract', 1437), ('lauryl dimethicone/polyglycerin-3 crosspolymer', 1438), ('citrus aurantium dulcis (orange) peel oil++', 1439), ('citrus aurantifolia (lime) oil++', 1440), ('pelargonium graveolens flower oil++', 1441), ('rosmarinus officinalis (rosemary) leaf oil++', 1442), ('linalool. *napiers original formula. +napiers aqua formula. ++fragrances.', 1443), ('diisostearyl malate', 1444), ('oryza sativa (rice) bran wax', 1445), ('indigofera tinctoria leaf extract', 1446), ('polygonum tinctorium leaf/stem extract', 1447), ('tetrasodium tetracarboxymethyl naringeninchalcone', 1448), ('amorphophallus konjac root powder', 1449), ('sodium dilauramidoglutamide lysine', 1450), ('sodium acrylate/acryloyldimethyltaurate/dimethylacrylamide crosspolymer', 1451), ('titanium dioxide (ci77891)', 1452), ('tin oxide (ci 77861)', 1453), ('mica (ci 77019).', 1454), ('euterpe oleracea sterols', 1455), ('oleic acid', 1456), ('isoamyl cocoate', 1457), ('cetyl palmitate', 1458), ('sorbitan palmitate', 1459), ('sodium gluconate.', 1460), ('* essential oil', 1461), ('canola oil sunflower seed oil unsaponifiables', 1462), ('orange peel oil', 1463), ('coriander seed oil', 1464), ('calophyllum inophyllum seed oil', 1465), ('rosa rubiginosa seed oil', 1466), ('grapefruit peel oil', 1467), ('ginger root oil', 1468), ('acerola fruit extract.', 1469), ('triheptanoin', 1470), ('isodecyl neopentanoate', 1471), ('simmondsia chinensis', 1472), ('(jojoba) seed oil', 1473), (\"cera alba/beeswax/cire d'abeille\", 1474), ('acacia decurrens/jojoba/sunflower seed wax', 1475), ('polyglyceryl-3 esters', 1476), ('distarch', 1477), ('phosphate', 1478), ('glycine soja (soybean)', 1479), ('oil', 1480), ('helianthus', 1481), ('annuus (sunflower) seed oil', 1482), ('hydrolyzed sodium', 1483), ('hyaluronate', 1484), ('hydroxyethyl acrylate/sodium', 1485), ('acryloyldimethyl taurate copolymer', 1486), ('rosa canina', 1487), ('fruit extract', 1488), ('rosmarinus officinalis (rosemary)', 1489), ('leaf extract', 1490), ('extract', 1491), ('sodium gluceptate', 1492), ('c14-22 alcohols', 1493), ('perfluorononylethyl stearyl dimethicone', 1494), ('peat extract(0.5%)', 1495), ('euphrasia officinalis extract*', 1496), ('glycyrrhiza glabra (licorice) root extract*', 1497), ('achillea millefolium flower extract*', 1498), ('aesculus hippocastanum (horse chestnut) leaf extract*', 1499), ('rhodiola rosea root extract*', 1500), ('vaccinium myrtillus fruit extract*', 1501), ('equisetum arvense leaf extract*', 1502), ('avena sativa (oat) kernel extract**', 1503), ('calendula officinalis flower extract**', 1504), ('nepeta cataria extract**', 1505), ('rubus idaeus (raspberry) leaf extract**', 1506), ('baptisia tinctoria root extract**', 1507), ('stellaria media (chickweed) extract**', 1508), ('viola tricolor extract+', 1509), ('rosa damascena flower extract+', 1510), ('spiraea ulmaria flower extract+', 1511), ('althaea officinalis root extract+', 1512), ('peg-10 rapeseed sterol', 1513), ('glycereth-20', 1514), ('c12-20 alkyl glucoside', 1515), ('alanyl glutamine', 1516), ('iron oxides(ci 77491)', 1517), ('fragrance++', 1518), ('linalool*. *fragrances of natural origin', 1519), ('dicapryl carbonate', 1520), ('simmondsia chineses (jojoba) seed oil*', 1521), ('opuntia tuna extract(prickly pear)', 1522), ('euterpe oleracea fruit extract (acai)', 1523), ('lycium barbarum (goji) extract', 1524), ('aristotelia chilensis (maqui) fruit extract', 1525), ('and moringa oleifera leaf extract ', 1526), ('squalane olive', 1527), ('mixed tocopherols (vitamin e)', 1528), ('olea europaea (olive) oil*', 1529), ('linum usitatissimum (flaxseed) oil*', 1530), ('borago officinalis (borage) oil*', 1531), ('rosa canina (rosehip) fruit oil*', 1532), ('oenothera biennis (evening primrose) oil*', 1533), ('punica granatum (pomegranate) seed oil*', 1534), ('vaccinium macrocarpon (cranberry) seed oil*', 1535), ('natural fragrance. *certified organic.', 1536), ('peg-6 caprylic/capric glycerides', 1537), ('saccharomyces/rice ferment filtrate extract', 1538), ('aspergillus/camellia sinensis leaf extract ferment filtrate', 1539), ('saccharum officinarum ferment extract', 1540), ('saccharomyces/rice ferment filtrate', 1541), ('lactobacillus/rice ferment', 1542), ('monascus/rice ferment', 1543), ('lactobacillus/kelp ferment filtrate', 1544), ('bacillus/soybean ferment extract', 1545), ('ficus carica (fig) fruit extract', 1546), ('soluble collagen', 1547), ('pueraria thunbergiana root extract', 1548), ('cnidium officinale root extract', 1549), ('paeonia lactiflora root extract', 1550), ('chamomilla recutita (matricaria) flower/leaf extract', 1551), ('cholesteryl dichlorobenzoate', 1552), ('palmitoyl hexapeptide-12', 1553), ('oryza sativa (rice) extract', 1554), ('pearl extract', 1555), ('retinol', 1556), ('squalane.', 1557), ('sea salt extract', 1558), ('stearoyl inulin', 1559), ('gardenia taitensis flower extract', 1560), ('magnesium chloride', 1561), ('sodium sulfate', 1562), ('potassium nitrate', 1563), ('potassium phosphate', 1564), ('helianthus annuus (sunflower) seed cera (wax)', 1565), ('acacia decurrens flower cera (wax)', 1566), ('palmitoyl tripeptide-38', 1567), ('avena sativa (oat) kernel flour', 1568), ('sodium hydroxide.', 1569), ('stearyl dimethicone', 1570), ('borago officinalis seed oil', 1571), ('retinyl propionate', 1572), ('swertia chirata leaf extract', 1573), ('yeast amino acids', 1574), ('taurine', 1575), ('glycine soja (soybean) extract', 1576), ('macrocystis pyrifera (kelp) extract', 1577), ('hydrolyzed vegetable protein', 1578), ('pvp', 1579), ('ahnfeltiopsis concinna extract', 1580), ('octadecane', 1581), ('oleyl alcohol', 1582), ('dioscorea villosa (wild yam) root extract', 1583), ('hydrolyzed yeast extract', 1584), ('cetyl hydroxyethylcellulose', 1585), ('polyglucuronic acid', 1586), ('polyglyceryl-3 caprate', 1587), ('red 4 (ci 14700).', 1588), ('soy amino acids', 1589), ('phenoxyethanol *hadasei-3.', 1590), ('visit the guerlain boutique', 1591), ('lactococcus ferment lysate', 1592), ('chrondrus crispus extract', 1593), ('lechithin', 1594), ('lepidium sativum sprout extract', 1595), ('zingiber officinale (ginger) root extract.', 1596), ('ppg-15 stearyl ether', 1597), ('hydroxyethyl urea', 1598), ('sodium polyaspartate', 1599), ('avobenzone 3.0%', 1600), ('homosalate 8.0%', 1601), ('octinoxate 7.5%', 1602), ('octisalate 4.5%', 1603), ('octocrylene 5.0%water', 1604), ('citrus aurantium dulcis (orange) oil*', 1605), ('cinnamomum camphora (camphor) bark oil*', 1606), ('magnolia acuminata flower extract', 1607), ('iris pallida root extract', 1608), ('rosa damascena extract', 1609), ('peg-6', 1610), ('vaccinium angustifolium (blueberry) fruit extract', 1611), ('vaccinium macrocarpon (cranberry) fruit extract', 1612), ('solanum tuberosum (potato) pulp extract', 1613), ('lycium chinense (wolfberry) fruit extract', 1614), ('eriobotrya japonica (loquat) leaf extract', 1615), ('passiflora incarnata flower extract', 1616), ('leontopodium alpinum extract', 1617), ('betula alba (birch) bark extract', 1618), ('boswellia serrata extract', 1619), ('thermus thermophillus ferment', 1620), (\"hordeum vulgare (barley) extract/extrait d'orge\", 1621), ('lythrum salicaria extract', 1622), ('oryzanol', 1623), ('vp/eicosene copolymer', 1624), ('ascorbyl tocopheryl maleate', 1625), ('phenoxyethanol * essential oil please be aware that ingredient lists may change or vary from time to time.� please refer to the ingredient list on the product package you receive for the most up to date list of ingredients.', 1626), ('rosa canina fruit oil*', 1627), ('simmondsia chinensis (jojoba) seed oil*', 1628), ('helianthus annuus (sunﬂower) seed oil*', 1629), ('morinda citrifolia (noni) fruit extract*', 1630), ('vitis vinifera (grape) fruit extract', 1631), ('jasminum ofﬁcinale (jasmine) flower/leaf extract', 1632), ('eugenia caryophyllus (clove) flower extract', 1633), ('punica granatum seed oil*', 1634), ('hippophae rhamnoides (sea buckthorn) seed oil*', 1635), ('geraniol**', 1636), ('citronellol**', 1637), ('farnesol** citral**.', 1638), ('zea mays oil/zea mays (corn) oil', 1639), ('ci 77492 (iron oxides)', 1640), ('ci 75130 (beta-carotene). *pitera™.', 1641), ('cyclotetrasiloxane', 1642), ('octadecene', 1643), ('collagen amino acids', 1644), ('gallic acid', 1645), ('ellagic acid', 1646), ('morus alba leaf extract', 1647), ('arctostaphylos uva ursi leaf extract', 1648), ('tetrapeptide-21', 1649), ('glyceryl behenate', 1650), ('acrylates/carbamate copolymer', 1651), ('tetrahydropiperine', 1652), ('benzophenone-3', 1653), ('bis-vinyl dimethicone/dimethicone copolymer', 1654), ('dimethicone crosspolymer-3', 1655), ('citrus aurantium bergamia (bergamot) fruit extract', 1656), ('citrus limon (lemon) peel extract', 1657), ('annatto (ci 75120).', 1658), ('almond/borage/linseed/olive acids/glycerides', 1659), ('oryza sativa starch', 1660), ('magnesium carboxymethyl beta-glucan', 1661), ('dehydroacetic acid', 1662), ('rosmarinus officinalis leaf extract', 1663), ('linalool. *100% natural fragrance.', 1664), ('visit the dior boutique', 1665), ('palmitoyl tripeptide-5', 1666), ('hydroxyethyl cellulose', 1667), ('disodium phosphate', 1668), ('sodium phosphate', 1669), ('edta', 1670), ('glyoxal.', 1671), ('octyldodecyl neopentanoate', 1672), ('cananga odorata flower oil*', 1673), ('eugenia caryophyllus (clove) bud oil*', 1674), ('jasminum officinale (jasmine) oil*', 1675), ('viola odorata flower/leaf extract', 1676), ('polianthes tuberosa extract', 1677), ('farnesol', 1678), ('rosa roxburghii fruit extract', 1679), ('paeonia albiflora (peony) root extract', 1680), ('molasses extract\\\\saccharum officinarum\\\\extrait de mélasse', 1681), ('citrus grandis (grapefruit) peel extract', 1682), ('palmaria palmata extract', 1683), ('morus nigra (mulberry) root extract', 1684), ('punica granatum (pomegranate) fruit juice', 1685), ('hydrolyzed rice bran extract', 1686), ('gentiana lutea (gentian) root extract', 1687), ('di-ppg-2 myreth-10 adipate', 1688), ('myristyl laurate', 1689), ('di-c12-18 alkyl dimonium chloride', 1690), ('mica*', 1691), ('essential oil**', 1692), ('organic sucrose (brown sugar).', 1693), ('-100 percent sugarcane-derived squalane.', 1694), ('collodial oatmeal', 1695), ('edta.', 1696), ('-black bee honey -ouessant honey: repairs skin. -guerlain exclusive royal jelly: nourishes skin. -commiphora oil: renews skin.', 1697), ('visit the fresh boutique', 1698), ('homosalate 5.0%', 1699), ('octocrylene 2.8%water', 1700), ('illicium verum (anise) fruit/seed oil*', 1701), ('carthamus tinctorius (safflower) seed oil*', 1702), ('myristica fragrans (nutmeg) kernel oil*', 1703), ('citrus nobilis (mandarin orange) peel oil*', 1704), ('litsea cubeba fruit oil*', 1705), ('hibiscus abelmoschus extract', 1706), ('anogeissus leiocarpus bark extract', 1707), ('centaurium erythraea (centaury) extract', 1708), ('rubus idaeus (raspberry) leaf extract', 1709), ('peucedanum graveolens (dill) extract', 1710), ('cassia alata leaf extract', 1711), ('mica * essential oil please be aware that ingredient lists may change or vary from time to time.� please refer to the ingredient list on the product package you receive for the most up to date list of ingredients.', 1712), ('hydrolyzed rice extract', 1713), ('glyceryl dilaurate', 1714), ('alcaligenes polysaccharides', 1715), ('caprylic/capric triglyceride*', 1716), ('cetearyl alcohol*', 1717), ('hydrogenated vegetable oil*', 1718), ('vitis vinifera (grape) seed oil*', 1719), ('peg-20 stearate', 1720), ('squalane*', 1721), ('citrus aurantium amara (bitter orange) flower water*', 1722), ('butyrospermum parkii (shea) butter extract*', 1723), ('palmitoyl grapevine shoot extract*', 1724), ('polyglyceryl-10 pentaoleate*', 1725), ('tocopheryl acetate*', 1726), ('verbena officinalis extract*', 1727), ('tilia cordata extract*', 1728), ('sodium carboxymethyl beta-glucan', 1729), ('butylphenyl methylpropional. *plant origin.', 1730), ('cocoglycerides', 1731), ('lauryl lactate', 1732), ('cetyl phosphate', 1733), ('pelvetia canaliculata extract', 1734), ('ectoin', 1735), ('ginkgo biloba leaf extract', 1736), ('passiflora incarnata extract', 1737), ('tripleurospermum maritimum extract', 1738), ('magnesium aluminum silicate', 1739), ('limonene*', 1740), ('linalool *', 1741), ('red 33 (ci 17200). *allergen.', 1742), ('visit the kopari boutique', 1743), ('piperidinepropionic acid', 1744), ('mineral oil(paraffinum liquidum/huile minerale)', 1745), ('pentaerythrityl tetrabehenate/benzoate/ethylhexanoate', 1746), ('dimethylacrylamide/sodium acryloyldimethyltaurate crosspolymer', 1747), ('sodium methyl stearoyl taurate', 1748), ('2-o-ethyl ascorbic acid', 1749), ('prunus speciosa leaf extract', 1750), ('angelica acutiloba root extract', 1751), ('sanguisorba officinalis root extract', 1752), ('isodonis japonicus leaf/stalk extract', 1753), ('tocopherol.', 1754), ('peg-60 glyceryl isostearate', 1755), ('hydrogenated palm oil', 1756), ('elaeis guineensis (palm) kernel oil', 1757), ('glycyl glycine', 1758), ('paeonia albiflora root extract', 1759), ('hamamelis virginiana (witch hazel) leaf extract', 1760), ('lamium album flower extract', 1761), ('citrus junos seed extract', 1762), ('zingiber aromaticus extract', 1763), ('benzoic acid.', 1764), ('caprylic/capric triglyceride,glycerin', 1765), ('tropaeolum majus extract', 1766), ('hydrolyzed rice protein', 1767), ('hexapeptide-48 hcl', 1768), ('phytosterols', 1769), ('ethylhexyl stearate', 1770), ('sodium isostearate', 1771), ('limonene.', 1772), ('polyglyceryl-10 pentaisostearate', 1773), ('dimer dilinoleyl dimer dilinoleate', 1774), ('phytosteryl macadamiate (macadamia)', 1775), ('stearyl glycyrrhetinate (licorice extract)', 1776), ('oryzanol (rice bran oil extract)', 1777), ('gold', 1778), ('isostearyl alcohol', 1779), ('silybum marianum ethyl ester', 1780), ('retinyl palmitate/carrot polypeptide', 1781), ('helianthus annuus (sunflower) seed wax', 1782), ('acacia decurrens flower wax', 1783), ('tricaprylin', 1784), ('butylene glycol cocoate', 1785), ('ethylcellulose', 1786), ('octoxynol-9', 1787), ('octinoxate 7.50%', 1788), ('octisalate 4.00%', 1789), ('oxybenzone 2.50%', 1790), ('titanium dioxide 1.10%', 1791), ('trioctyldodecyl citrate', 1792), ('polyglyceryl-10 pentastearate', 1793), ('octyldodecyl stearoyl stearate', 1794), ('polyglyceryl-6 polyricinoleate', 1795), ('glycyrrhetinic acid', 1796), ('sodium stearoyl lactylate', 1797), ('tocopheryl linoleate/oleate', 1798), ('dimethoxytolyl propylresorcinol', 1799), ('isopropyl titanium triisostearate', 1800), ('[+/- iron oxides (ci 77492)', 1801), ('zinc oxide (ci 77497)', 1802), ('iron oxides (ci 77499)]', 1803), ('hydrolyzed chondrus crispus extract', 1804), ('methylisothiazolinone', 1805), ('sodium hyaluronate.', 1806), ('octisalate 2.0%', 1807), ('octocrylene 2.0%', 1808), ('titanium dioxide 3.0%', 1809), ('zinc oxide 3.0%water', 1810), ('neopentyl glycol diheptanoate', 1811), ('laureth-4', 1812), ('garcinia mangostana peel extract', 1813), ('citrus aurantium amara (bitter orange) flower wax', 1814), ('psidium guajava (guava) fruit extract', 1815), ('citrus aurantium amara (bitter orange) flower water', 1816), ('tourmaline', 1817), ('cordyceps sinensis extract', 1818), ('rhodochrosite', 1819), ('isopropyl myristate', 1820), ('pvp/hexadecene copolymer', 1821), ('dimethicone silylate', 1822), ('iron oxides (ci 77491', 1823), ('ci 77499)', 1824), ('titanium dioxide (ci 77891) * essential oil please be aware that ingredient lists may change or vary from time to time.� please refer to the ingredient list on the product package you receive for the most up to date list of ingredients.', 1825), ('butylene glycol*', 1826), ('hydrogenated ethylhexyl olivate*', 1827), ('cetearyl glucoside*', 1828), ('hydrogenated olive oil unsaponifiables*', 1829), ('sesamum indicum (sesame) seed oil*', 1830), ('prunus armeniaca (apricot) kernel oil*', 1831), ('coco-caprylate/caprate*', 1832), ('hydrolyzed hyaluronic acid*', 1833), ('hydrogenated apricot kernel oil*', 1834), ('palmitoyl tetrapeptide-7*', 1835), ('pentaerythrityl distearate', 1836), ('sorbitan isostearate*', 1837), ('tribehenin*', 1838), ('linalool. *plant origin.', 1839), ('octyldodecyl myristate*', 1840), ('c12-16 alcohols*', 1841), ('hydrogenated lecithin*', 1842), ('palmitic acid*', 1843), ('ci 77019 (mica)', 1844), ('sorbitan laurate*', 1845), ('hydrolyzed hyaluronic acid ', 1846), ('hydroxyethylcellulose*', 1847), ('', 1848), ('alcohol*', 1849), ('citric acid*', 1850), ('benzyl alcohol ', 1851), ('visit the shiseido boutique', 1852), ('carnitine', 1853), ('superoxide dismutase', 1854), ('elettaria cardamomum seed extract', 1855), ('cananga odorata flower extract', 1856), ('citrus aurantium amara (bitter orange) flower extract', 1857), ('cucumis melo (melon) fruit extract', 1858), ('cupressus sempervirens leaf/stem extract', 1859), ('jasminum officinale (jasmine) flower extract', 1860), ('rose extract', 1861), ('salvia officinalis (sage) leaf extract', 1862), ('santalum album (sandalwood) wood extract', 1863), ('ammonium hydroxide', 1864), ('potassium sorbate.', 1865), ('rosa gallica flower powder', 1866), ('physalis angulata extract', 1867), ('rosmarinus officinalis (rosemary) extract', 1868), ('polymehtylsilsequioxane', 1869), ('sodium acrylate/sodium acryloyldimethyl taureate copolymer', 1870), ('hydroxyethyl acrylate/soduium acryloyldimethyl taurate copolymer', 1871), ('glyceryl acrylate/acrylic acid copolymer', 1872), ('cetraria islandica extract', 1873), ('ferment extract', 1874), ('sh-polypeptide-22', 1875), ('sh-polypeptide-45', 1876), ('sh-polypeptide-8', 1877), ('sh-polypeptide-9.', 1878), ('argan oil isostearyl esters**. **natural.', 1879), ('sodium stearate', 1880), ('isosteareth-2', 1881), ('manganese gluconate', 1882), ('chlorphesin', 1883), ('blue 1.', 1884), ('visit the estée lauder boutique', 1885), ('ethylhexyl salicylate', 1886), ('butyl methoxydibenzoylmethane', 1887), ('pullulan', 1888), ('plukenetia volubilis seed oil', 1889), ('nannochloropsis oculata extract', 1890), ('tetrasodium glutamate diacetate', 1891), ('corylus americana (hazel) seed extract', 1892), ('daucus carota sativa (carrot) root extract', 1893), ('chondrus crispus (carrageenan) extract', 1894), ('schinus terebinthifolius seed extract', 1895), ('phenyl trimethicone ', 1896), ('propanediol ', 1897), ('alteromonas ferment extract ', 1898), ('hydrolyzed rice extract ', 1899), ('acetyl glucosamine ', 1900), ('algae extract ', 1901), ('pentaerythrityl tetraethylhexanoate ', 1902), ('dextrin palmitate ', 1903), ('carbomer ', 1904), ('dehydroxanthan gum ', 1905), ('tetrahexyldecyl ascorbate ', 1906), ('benzophenone-4 ', 1907), ('sodium hydroxide ', 1908), ('visit the philosophy boutique', 1909), ('water glycerin', 1910), ('ophiopogon japonicus root extract', 1911), ('aluminum starch octenylsuccinate', 1912), ('acrylates/c10-30 alkyl acrylate crosspolymer.', 1913), ('diphenylsiloxy phenyl trimethicone', 1914), ('glycereth-25 pca isostearate', 1915), ('prunus amygdalus dulcis (sweet almond) oil*', 1916), ('citrus aurantium amara (bitter orange) leaf/twig oil*', 1917), ('daucus carota sativa (carrot) seed oil', 1918), ('citrus aurantium amara (bitter orange) flower oil*', 1919), ('farnesol (07-49-05) *.', 1920), ('cetearyl isononanoate', 1921), ('cetearyl ethylhexanoate', 1922), ('musa sapientum (banana) fruit extract', 1923), ('helianthus annuus (sunflower) extract', 1924), ('thymus citriodorus flower/leaf extract', 1925), ('ci 15985/yellow 6.', 1926), ('hydrolyzed phyllostachis bambusoides', 1927), ('hydrolyzed camellia sinensis leaf', 1928), ('camellia sinensis flower extract', 1929), ('kaempferol', 1930), ('xylitylglucoside', 1931), ('anhydroxylitol', 1932), ('peg-15 pentaerythrityl tetra(laureth-6 carboxylate)', 1933), ('phytantriol', 1934), ('poloxamer 407', 1935), ('di-methicone', 1936), ('isoeicosane', 1937), ('mequisetum giganteum extract', 1938), ('kigelia africana fruit extract', 1939), ('magne', 1940), ('sium sulfate', 1941), ('acrylates/dimethicone co -polymer', 1942), ('dimethicone /vinyl di-methicone crosspolymer', 1943), ('vinyl dimethicone /methicone silsesquioxane crosspolymer', 1944), ('geraniol ', 1945), ('ci 77492/iron oxides ', 1946), ('ci 77499/iron oxides', 1947), ('ci 77491/iron oxide.', 1948), ('peg-12 glyceryl dimyristate', 1949), ('betaglucan', 1950), ('sodium sulfite', 1951), ('helianthus annuus (sunflower) seed oil**', 1952), ('polysorbate-80**', 1953), ('polysorbate-20**', 1954), ('carthamus tinctorius (safflower) seed oil**', 1955), ('citrus grandis (pomelo grapefruit) seed oil**', 1956), ('vitis vinifera (grape) seed oil**', 1957), ('olea europaea (olive) fruit oil**', 1958), ('sucralose**.', 1959), ('water squalane', 1960), ('sweet almond oil', 1961), ('avocado oil.', 1962), ('ricinus communis (castor) seed oil', 1963), ('hydroxystearic/linolenic/linoleic polyglycerides', 1964), ('rhus succedanea fruit wax', 1965), ('rhus verniciflua peel wax', 1966), ('hydrogenated castor oil', 1967), ('euphorbia cerifera (candelilla) wax', 1968), ('copernicia cerifera (carnauba) wax', 1969), ('honey', 1970), ('flavor.', 1971), ('ruby powder', 1972), ('gluconic acid', 1973), ('cellulose gum', 1974), ('chitosan', 1975), ('behentrimonium chloride', 1976), ('sodium bicarbonate', 1977), ('pongamia pinnata seed extract', 1978), ('isopropyl alcohol', 1979), ('acetic acid', 1980), ('angelica archangelica root extract', 1981), ('benzoic acid', 1982), ('citrus aurantium amara (bitter orange) peel extract', 1983), ('bha', 1984), ('titanium dioxide (ci 77891).', 1985), ('peg/ppg-17/6 copolymer', 1986), ('pinus sylvestris bark extract', 1987), ('phyllostachis', 1988), ('bambusoides juice', 1989), ('peg-60 hydrogenated castor oil', 1990), ('ethylhexylglycerin,phenoxyethanol', 1991), ('yellow 6 (ci 15985).', 1992), ('peg/ppg-14/7 dimethyl ether', 1993), ('microcrystalline wax(cera microcristallina/cire microcristalline)', 1994), ('saccharomyces ferment lysate filtrate', 1995), ('rosmarinus officinalis (rosemary) leaf extract (rosmarinus officinalis leaf extract)', 1996), ('bupleurum falcatum root extract.', 1997), ('hydrolyzed potato protein*', 1998), ('borago officinalis seed oil*', 1999), ('hydrogenated olive oil stearyl esters*', 2000), ('cetearyl wheat straw glycosides*', 2001), ('linoleic acid*', 2002), ('castanea sativa (chestnut) bark', 2003), ('leaf extract*', 2004), ('pisum sativum (pea) extract*', 2005), ('cyclodextrin*', 2006), ('linolenic acid*', 2007), ('coumarin.*plant origin.', 2008), ('disodium acetyl glucosamine phosphate', 2009), ('zanthoxylum bungeanum fruit extract', 2010), ('peg-12 dimethicone', 2011), ('fragrance/parfum', 2012), ('citronellol.', 2013), ('caulerpa lentillifera extract', 2014), ('citrus sinensis (orange) fruit extract', 2015), ('disodium edta-copper', 2016), ('hydroxyisohexyl 3-cyclohexene carboxaldehyde', 2017), ('citronellal', 2018), ('advanced night rpr int rcv ampoule division: el (estee lauder)ingredients: caprylic/capric triglyceride ', 2019), ('aleurites moluccana (kukui) seed oil ', 2020), ('prunus armeniaca (apricot) kernel oil ', 2021), ('bisabolol ', 2022), ('garcinia mangostana peel extract ', 2023), ('salicornia herbacea extract ', 2024), ('magnolia officinalis bark extract ', 2025), ('salvia hispanica seed extract ', 2026), ('anthemis nobilis (chamomile) flower extract ', 2027), ('rosmarinus officinalis (rosemary) leaf extract ', 2028), ('coffea arabica (coffee) seed extract ', 2029), ('helianthus annuus (sunflower) seed oil ', 2030), ('camelina sativa seed oil ', 2031), ('vaccinium myrtillus seed oil ', 2032), ('polymethylsilsesquioxane/silica crosspolymer', 2033), ('bacillus/folic acid ferment extract', 2034), ('calcium pantothenate', 2035), ('sodium ascorbyl phosphate', 2036), ('pyridoxine hcl', 2037), ('algin', 2038), ('sodium starch octenylsuccinate', 2039), ('peg-7 trimethylolpropane coconut ether', 2040), ('-titanium dioxide 3.55%: sunscreen. -octinoxate 3.74%: sunscreen. -oxybenzone 1%: sunscreen.', 2041), ('hydrolyzed ginseng saponins', 2042), ('glutamic acid', 2043), ('lysine', 2044), ('peg/ppg-18/18 dimethicone', 2045), ('ppg-5-laureth-5', 2046), ('hydrated silica', 2047), ('ci 42090', 2048), ('visit the clarins boutique', 2049), ('stearamidopropyl dimethylamine', 2050), ('sodium polystyrene sulfonate', 2051), ('sorghum bicolor stalk juice', 2052), ('acetyl tetrapeptide-17', 2053), ('colloidal platinum', 2054), ('polysorbate-20', 2055), ('3-aminopropane sulfonic acid', 2056), ('calcium hydroxymethionine', 2057), ('geranium maculatum oil', 2058), ('ascorbyl palmitate.', 2059), ('decyl cocoate', 2060), ('passiflora incarnata seed oil', 2061), ('maltitol', 2062), ('euphorbia cerifera (candelilla) wax(candelilla cera/cire de candelilla)', 2063), ('peg-30 soy sterol', 2064), ('triisostearin', 2065), ('trimethylolpropane triethylhexanoate', 2066), ('polysilicone-2', 2067), ('poly c10-30 alkyl acrylate', 2068), ('guanosine', 2069), ('cyathea medullaris leaf extract', 2070), ('secale cereale (rye) seed extract', 2071), ('cinnamic acid', 2072), ('disodium stearoyl glutamate', 2073), ('levulinic acid', 2074), ('polyglyceryl-2 caprate', 2075), ('polyglyceryl-2 sesquioleate', 2076), ('rosa moschata seed oil', 2077), ('avena sativa (oat) kernel oil', 2078), ('oenothera biennis', 2079), ('(evening primrose) oil', 2080), ('lavandula hybrida oil', 2081), ('isodecyl isononanoate', 2082), ('hydrogenated coco-glycerides', 2083), ('gellidiela acerosa (algae) extract', 2084), ('poria cocos sclerotium extract', 2085), ('visit the lancôme boutique', 2086), ('isostearyl palmitate', 2087), ('lactobacillus/pumpkin fruit ferment filtrate', 2088), ('bromelain', 2089), ('papain', 2090), ('opuntia ficus-indica fruit extract', 2091), ('aniba rosaeodora (rosewood) wood extract', 2092), ('myristyl glucoside', 2093), ('chlorophyllin-copper', 2094), ('peg-150 disterate', 2095), ('rosemary leaf water', 2096), ('chamomile flower water', 2097), ('yeast/fermented black tea extract', 2098), ('nuphar luteum flower extract', 2099), ('sea daffodil flower extract', 2100), ('hydrolyzed hylauronic acid', 2101), ('sucrose distearate', 2102), ('cyclopentasilxane', 2103), ('hydroxyethylcelluclose', 2104), ('potassium sorbate palmitoyl tripeptide-5', 2105), ('fullerene', 2106), ('sodum benzoate', 2107), ('dehydroacetic acid.', 2108), ('diisopropyl dimer dilinoleate', 2109), ('peg-40 stearate,tocopheryl acetate', 2110), ('ppg-12/smdi copolymer', 2111), ('cyperus esculentus tuber extract', 2112), ('mangifera indica (mango) fruit extract', 2113), ('prunus domestica fruit extract', 2114), ('hydroxyphenyl propamidobenzoic acid', 2115), ('aleurites moluccana (kukui nut) seed oil', 2116), ('tetrahexyldecyl ascorbate (vitamin c ester)', 2117), ('hydrolyzed wheat starch', 2118), ('thioctic acid (alpha lipoic acid)', 2119), ('eugenol.', 2120), ('-100 percent pure argan oil: nourishes and protects skin with essential fatty acids', 2121), ('antioxidants', 2122), ('and vitamin e. -aloe vera: calms and conditions skin. -jojoba oil: diminishes visible signs of aging.', 2123), ('*ingredients from organic farming. **clinical grade essential oils blend.', 2124), ('#name?', 2125), ('organic aloe leaf juice (aloe barbadensis)', 2126), ('red raspberry seed oil (rubus idaeus)', 2127), ('organic prickly pear oil (opuntia ficus-lndica)', 2128), ('kokum butter (garcinia indica)', 2129), ('organic shea butter (butyrospermum parkii)', 2130), ('organic alcohol', 2131), ('organic rosehip seed oil (rosa canina)', 2132), ('organic lavender flower (lavandula angustifolia) essential oil', 2133), ('organic sweet orange peel (citrus sinensis) essential oil', 2134), ('organic bilberry fruit extract (vaccinium myrtillus)', 2135), ('organic sugar cane extract (saccharum officinarum)', 2136), ('organic sugar maple extract (acer saccharinum)', 2137), ('organic orange peel extract (citrus sinensis)', 2138), ('organic lemon peel extract (citrus limon)', 2139), ('organic cranberry fruit extract (vaccinium macrocarpon)', 2140), ('organic papaya fruit extract (carica papaya)', 2141), ('organic goji berry extract (lycium barbarum)', 2142), ('indigo powder (baphicacanthus cusia [nees] bremek)', 2143), ('ultramarine blue', 2144), ('manganese violet.', 2145), ('sodium tetrahydrojasmonate', 2146), ('secale cereale extract/rye seed extract', 2147), ('ammonium polyacryldimethyltauramide/ammonium polyacryloyldimethyl taurate', 2148), ('acrylonitrile/methyl methacrylate/vinylidene chloride copolymer', 2149), ('methyldihydrojasmonate', 2150), ('jojoba esters*', 2151), ('acacia decurrens flower wax*', 2152), ('helianthus annuus (sunflower) seed wax*', 2153), ('ci 77491 (iron oxides)', 2154), ('ammonium polyacryloyldimethyl taurate', 2155), ('moringa pterygosperma seed extract', 2156), ('rosa gallica flower extract', 2157), ('-zinc oxide (otc): filters harmful uv rays. -alpha arbutin: helps skin appear brighter with a more even skin tone. -homeostatine: helps visibly firm and smooth the appearance of skin. -bisabolol: helps soothe and calm skin.', 2158), ('aloe barbadensis leaf water', 2159), ('hamamelis virginiana (witch hazel) flower water', 2160), ('leuconostoc/radish root ferment filterate', 2161), ('cocos nucifera (coconut) water', 2162), ('coccinia indica fruit extract (neer sikkappu red).', 2163), ('visit the tata harper boutique', 2164), ('mineral oil/paraffinum liquidum/huile minerale', 2165), ('sesamum indicum (sesame) oil', 2166), ('propylene glycol dicaprate', 2167), ('red 33 (ci 17200).', 2168), ('steareth-100', 2169), ('capryloyl salicylic acid', 2170), ('mentha piperita (peppermint) oil', 2171), ('salicylic acid.', 2172), ('citrus reticulata (tangerine) peel extract', 2173), ('cladosiphon okamuranus extract', 2174), ('punica granatum (pomegranate) extract', 2175), ('sapindus mukorossi fruit extract', 2176), ('caesalpinia spinosa gum', 2177), ('peg-32', 2178), ('ethylhexyl hydroxystearate', 2179), ('bismuth oxychloride (ci 77163)', 2180), ('iron oxides (ci 77499) rds product name', 2181), ('water (aqua', 2182), ('eau)', 2183), ('ceresin', 2184), ('ozokerite', 2185), ('parachlorella beijerinckii exopolysaccharides', 2186), ('chlorella protothecoides', 2187), ('hydrolyzed f-fucoidan', 2188), ('palmitoyl hexapeptide-52', 2189), ('ribose', 2190), ('collagen', 2191), ('biosaccharide gum-4', 2192), ('alpha-glucan oligosaccharide', 2193), ('hexyl cinnamal.', 2194), ('cocoa seed butter', 2195), ('mannose', 2196), ('carnauba wax', 2197), ('lavender oil', 2198), ('potassium methoxysalicylate', 2199), ('crataegus monogyna flower extract', 2200), ('rehmannia chinensis root extract', 2201), ('ppg-17', 2202), ('prunus yedoensis leaf extract', 2203), ('dipropylene glyco,l octyldodecyl myristate', 2204), ('juniperus mexicana oil', 2205), ('hydrolyzed avocado protein', 2206), ('actinidia chinensis (kiwi) fruit extract', 2207), ('fragaria vesca (strawberry) fruit extract', 2208), ('prunus persica (peach) fruit extract', 2209), ('ginkgo biloba nut extract', 2210), ('punica granatum fruit extract', 2211), ('phoenix dactylifera (date) seed', 2212), ('saccharide hydrolysate', 2213), ('peg-800', 2214), ('goat milk powder', 2215), ('lactose', 2216), ('milk protein', 2217), ('aloe barbadensis leaf juice powder', 2218), ('oryza sativa (rice) bran extract', 2219), ('almond oil', 2220), ('jojoba oil', 2221), ('macadamia oil', 2222), ('brazil nut oil', 2223), ('evening primrose oil', 2224), ('buriti oil', 2225), ('arnica oil', 2226), ('rosehip oil', 2227), ('calendula oil', 2228), ('kiwi fruit seed oil', 2229), ('totarol', 2230), ('rosemary leaf extract', 2231), ('natural fragrance (orange blossom & rose gardenia.)', 2232)])"
      ]
     },
     "execution_count": 12,
     "metadata": {},
     "output_type": "execute_result"
    }
   ],
   "source": [
    "ingredient_idx.items()"
   ]
  },
  {
   "cell_type": "code",
   "execution_count": 16,
   "metadata": {},
   "outputs": [],
   "source": [
    "# There are totally 2232 number of ingretients "
   ]
  },
  {
   "cell_type": "code",
   "execution_count": 17,
   "metadata": {
    "dc": {
     "key": "26"
    },
    "tags": [
     "sample_code"
    ]
   },
   "outputs": [],
   "source": [
    "# Get the number of items and tokens \n",
    "M = 190\n",
    "N = 2233\n",
    "\n",
    "# Initialize a matrix of zeros\n",
    "A =A = np.zeros((M, N))"
   ]
  },
  {
   "cell_type": "code",
   "execution_count": 20,
   "metadata": {},
   "outputs": [
    {
     "name": "stdout",
     "output_type": "stream",
     "text": [
      "[[0. 0. 0. ... 0. 0. 0.]\n",
      " [0. 0. 0. ... 0. 0. 0.]\n",
      " [0. 0. 0. ... 0. 0. 0.]\n",
      " ...\n",
      " [0. 0. 0. ... 0. 0. 0.]\n",
      " [0. 0. 0. ... 0. 0. 0.]\n",
      " [0. 0. 0. ... 0. 0. 0.]]\n"
     ]
    }
   ],
   "source": [
    "print(A)"
   ]
  },
  {
   "cell_type": "code",
   "execution_count": 19,
   "metadata": {},
   "outputs": [
    {
     "data": {
      "text/plain": [
       "(190, 2233)"
      ]
     },
     "execution_count": 19,
     "metadata": {},
     "output_type": "execute_result"
    }
   ],
   "source": [
    "A.shape"
   ]
  },
  {
   "cell_type": "markdown",
   "metadata": {
    "dc": {
     "key": "33"
    },
    "deletable": false,
    "editable": false,
    "run_control": {
     "frozen": true
    },
    "tags": [
     "context"
    ]
   },
   "source": [
    "## 5. Creating a counter function\n",
    "<p>Before we can fill the matrix, let's create a function to count the tokens (i.e., an ingredients list) for each row. Our end goal is to fill the matrix with 1 or 0: if an ingredient is in a cosmetic, the value is 1. If not, it remains 0. The name of this function, <code>oh_encoder</code>, will become clear next.</p>"
   ]
  },
  {
   "cell_type": "code",
   "execution_count": 24,
   "metadata": {
    "dc": {
     "key": "33"
    },
    "tags": [
     "sample_code"
    ]
   },
   "outputs": [],
   "source": [
    "# Define the oh_encoder function\n",
    "def oh_encoder(tokens):\n",
    "    x = np.zeros(N)\n",
    "    for ingredient in tokens:\n",
    "        # Get the index for each ingredient\n",
    "        idx = ingredient_idx[ingredient]\n",
    "        # Put 1 at the corresponding indices\n",
    "        x[idx] =1\n",
    "    return x"
   ]
  },
  {
   "cell_type": "markdown",
   "metadata": {
    "dc": {
     "key": "40"
    },
    "deletable": false,
    "editable": false,
    "run_control": {
     "frozen": true
    },
    "tags": [
     "context"
    ]
   },
   "source": [
    "## 6. The Cosmetic-Ingredient matrix!\n",
    "<p>Now we'll apply the <code>oh_encoder()</code> functon to the tokens in <code>corpus</code> and set the values at each row of this matrix. So the result will tell us what ingredients each item is composed of. For example, if a cosmetic item contains <em>water, niacin, decyl aleate</em> and <em>sh-polypeptide-1</em>, the outcome of this item will be as follows. \n",
    "<img src=\"https://assets.datacamp.com/production/project_695/img/image_3.PNG\" style=\"width:800px;height:400px;\">\n",
    "This is what we called one-hot encoding. By encoding each ingredient in the items, the <em>Cosmetic-Ingredient</em> matrix will be filled with binary values. </p>"
   ]
  },
  {
   "cell_type": "code",
   "execution_count": 25,
   "metadata": {
    "dc": {
     "key": "40"
    },
    "tags": [
     "sample_code"
    ]
   },
   "outputs": [],
   "source": [
    "# Make a document-term matrix\n",
    "i = 0\n",
    "for tokens in corpus:\n",
    "    A[i, :] = oh_encoder(tokens)\n",
    "    i+=1\n",
    "    # ... YOUR CODE FOR TASK 6 ..."
   ]
  },
  {
   "cell_type": "code",
   "execution_count": 31,
   "metadata": {},
   "outputs": [
    {
     "name": "stdout",
     "output_type": "stream",
     "text": [
      "[[1. 1. 1. ... 0. 0. 0.]\n",
      " [0. 0. 0. ... 0. 0. 0.]\n",
      " [0. 0. 0. ... 0. 0. 0.]\n",
      " ...\n",
      " [0. 0. 0. ... 0. 0. 0.]\n",
      " [0. 0. 0. ... 0. 0. 0.]\n",
      " [0. 0. 0. ... 1. 1. 1.]]\n"
     ]
    }
   ],
   "source": [
    "print(A)"
   ]
  },
  {
   "cell_type": "code",
   "execution_count": 30,
   "metadata": {},
   "outputs": [
    {
     "name": "stdout",
     "output_type": "stream",
     "text": [
      "(190, 2233)\n"
     ]
    }
   ],
   "source": [
    "print(A.shape)"
   ]
  },
  {
   "cell_type": "markdown",
   "metadata": {
    "dc": {
     "key": "47"
    },
    "deletable": false,
    "editable": false,
    "run_control": {
     "frozen": true
    },
    "tags": [
     "context"
    ]
   },
   "source": [
    "## 7. Dimension reduction with t-SNE\n",
    "<p>The dimensions of the existing matrix is (190, 2233), which means there are 2233 features in our data. For visualization, we should downsize this into two dimensions. We'll use t-SNE for reducing the dimension of the data here.</p>\n",
    "<p><strong><a href=\"https://en.wikipedia.org/wiki/T-distributed_stochastic_neighbor_embedding\">T-distributed Stochastic Neighbor Embedding (t-SNE)</a></strong> is a nonlinear dimensionality reduction technique that is well-suited for embedding high-dimensional data for visualization in a low-dimensional space of two or three dimensions. Specifically, this technique can reduce the dimension of data while keeping the similarities between the instances. This enables us to make a plot on the coordinate plane, which can be said as vectorizing. All of these cosmetic items in our data will be vectorized into two-dimensional coordinates, and the distances between the points will indicate the similarities between the items. </p>"
   ]
  },
  {
   "cell_type": "code",
   "execution_count": 34,
   "metadata": {
    "dc": {
     "key": "47"
    },
    "tags": [
     "sample_code"
    ]
   },
   "outputs": [
    {
     "name": "stdout",
     "output_type": "stream",
     "text": [
      "            X         Y\n",
      "0    4.166076 -0.228655\n",
      "1    2.020887  0.736017\n",
      "2    2.220963  1.409477\n",
      "3    4.769847  0.440994\n",
      "4    0.037779 -2.290131\n",
      "..        ...       ...\n",
      "185 -0.371950  0.601446\n",
      "186  1.585887  0.920593\n",
      "187  1.209751  3.557629\n",
      "188  1.348714  2.381053\n",
      "189  0.444402  0.836875\n",
      "\n",
      "[190 rows x 2 columns]\n"
     ]
    }
   ],
   "source": [
    "import warnings\n",
    "# Dimension reduction with t-SNE\n",
    "warnings.filterwarnings('ignore')\n",
    "model = TSNE(n_components=2, random_state=42)  # Initialize t-SNE\n",
    "tsne_features = model.fit_transform(A)  # Apply t-SNE\n",
    "\n",
    "# Make X, Y columns\n",
    "moisturizers_dry['X'] = tsne_features[:, 0]  # First dimension\n",
    "moisturizers_dry['Y'] = tsne_features[:, 1]  # Second dimension\n",
    "\n",
    "# Print the DataFrame with new columns\n",
    "print(moisturizers_dry[['X', 'Y']])"
   ]
  },
  {
   "cell_type": "markdown",
   "metadata": {
    "dc": {
     "key": "55"
    },
    "deletable": false,
    "editable": false,
    "run_control": {
     "frozen": true
    },
    "tags": [
     "context"
    ]
   },
   "source": [
    "## 8. Let's map the items with Bokeh\n",
    "<p>We are now ready to start creating our plot. With the t-SNE values, we can plot all our items on the coordinate plane. And the coolest part here is that it will also show us the name, the brand, the price and the rank of each item. Let's make a scatter plot using Bokeh and add a hover tool to show that information. Note that we won't display the plot yet as we will make some more additions to it.</p>"
   ]
  },
  {
   "cell_type": "code",
   "execution_count": 35,
   "metadata": {
    "dc": {
     "key": "55"
    },
    "tags": [
     "sample_code"
    ]
   },
   "outputs": [
    {
     "data": {
      "text/html": [
       "<div class=\"bk-root\">\n",
       "        <a href=\"https://bokeh.org\" target=\"_blank\" class=\"bk-logo bk-logo-small bk-logo-notebook\"></a>\n",
       "        <span id=\"1002\">Loading BokehJS ...</span>\n",
       "    </div>\n"
      ]
     },
     "metadata": {},
     "output_type": "display_data"
    },
    {
     "data": {
      "application/javascript": [
       "(function(root) {\n",
       "  function now() {\n",
       "    return new Date();\n",
       "  }\n",
       "\n",
       "  const force = true;\n",
       "\n",
       "  if (typeof root._bokeh_onload_callbacks === \"undefined\" || force === true) {\n",
       "    root._bokeh_onload_callbacks = [];\n",
       "    root._bokeh_is_loading = undefined;\n",
       "  }\n",
       "\n",
       "const JS_MIME_TYPE = 'application/javascript';\n",
       "  const HTML_MIME_TYPE = 'text/html';\n",
       "  const EXEC_MIME_TYPE = 'application/vnd.bokehjs_exec.v0+json';\n",
       "  const CLASS_NAME = 'output_bokeh rendered_html';\n",
       "\n",
       "  /**\n",
       "   * Render data to the DOM node\n",
       "   */\n",
       "  function render(props, node) {\n",
       "    const script = document.createElement(\"script\");\n",
       "    node.appendChild(script);\n",
       "  }\n",
       "\n",
       "  /**\n",
       "   * Handle when an output is cleared or removed\n",
       "   */\n",
       "  function handleClearOutput(event, handle) {\n",
       "    const cell = handle.cell;\n",
       "\n",
       "    const id = cell.output_area._bokeh_element_id;\n",
       "    const server_id = cell.output_area._bokeh_server_id;\n",
       "    // Clean up Bokeh references\n",
       "    if (id != null && id in Bokeh.index) {\n",
       "      Bokeh.index[id].model.document.clear();\n",
       "      delete Bokeh.index[id];\n",
       "    }\n",
       "\n",
       "    if (server_id !== undefined) {\n",
       "      // Clean up Bokeh references\n",
       "      const cmd_clean = \"from bokeh.io.state import curstate; print(curstate().uuid_to_server['\" + server_id + \"'].get_sessions()[0].document.roots[0]._id)\";\n",
       "      cell.notebook.kernel.execute(cmd_clean, {\n",
       "        iopub: {\n",
       "          output: function(msg) {\n",
       "            const id = msg.content.text.trim();\n",
       "            if (id in Bokeh.index) {\n",
       "              Bokeh.index[id].model.document.clear();\n",
       "              delete Bokeh.index[id];\n",
       "            }\n",
       "          }\n",
       "        }\n",
       "      });\n",
       "      // Destroy server and session\n",
       "      const cmd_destroy = \"import bokeh.io.notebook as ion; ion.destroy_server('\" + server_id + \"')\";\n",
       "      cell.notebook.kernel.execute(cmd_destroy);\n",
       "    }\n",
       "  }\n",
       "\n",
       "  /**\n",
       "   * Handle when a new output is added\n",
       "   */\n",
       "  function handleAddOutput(event, handle) {\n",
       "    const output_area = handle.output_area;\n",
       "    const output = handle.output;\n",
       "\n",
       "    // limit handleAddOutput to display_data with EXEC_MIME_TYPE content only\n",
       "    if ((output.output_type != \"display_data\") || (!Object.prototype.hasOwnProperty.call(output.data, EXEC_MIME_TYPE))) {\n",
       "      return\n",
       "    }\n",
       "\n",
       "    const toinsert = output_area.element.find(\".\" + CLASS_NAME.split(' ')[0]);\n",
       "\n",
       "    if (output.metadata[EXEC_MIME_TYPE][\"id\"] !== undefined) {\n",
       "      toinsert[toinsert.length - 1].firstChild.textContent = output.data[JS_MIME_TYPE];\n",
       "      // store reference to embed id on output_area\n",
       "      output_area._bokeh_element_id = output.metadata[EXEC_MIME_TYPE][\"id\"];\n",
       "    }\n",
       "    if (output.metadata[EXEC_MIME_TYPE][\"server_id\"] !== undefined) {\n",
       "      const bk_div = document.createElement(\"div\");\n",
       "      bk_div.innerHTML = output.data[HTML_MIME_TYPE];\n",
       "      const script_attrs = bk_div.children[0].attributes;\n",
       "      for (let i = 0; i < script_attrs.length; i++) {\n",
       "        toinsert[toinsert.length - 1].firstChild.setAttribute(script_attrs[i].name, script_attrs[i].value);\n",
       "        toinsert[toinsert.length - 1].firstChild.textContent = bk_div.children[0].textContent\n",
       "      }\n",
       "      // store reference to server id on output_area\n",
       "      output_area._bokeh_server_id = output.metadata[EXEC_MIME_TYPE][\"server_id\"];\n",
       "    }\n",
       "  }\n",
       "\n",
       "  function register_renderer(events, OutputArea) {\n",
       "\n",
       "    function append_mime(data, metadata, element) {\n",
       "      // create a DOM node to render to\n",
       "      const toinsert = this.create_output_subarea(\n",
       "        metadata,\n",
       "        CLASS_NAME,\n",
       "        EXEC_MIME_TYPE\n",
       "      );\n",
       "      this.keyboard_manager.register_events(toinsert);\n",
       "      // Render to node\n",
       "      const props = {data: data, metadata: metadata[EXEC_MIME_TYPE]};\n",
       "      render(props, toinsert[toinsert.length - 1]);\n",
       "      element.append(toinsert);\n",
       "      return toinsert\n",
       "    }\n",
       "\n",
       "    /* Handle when an output is cleared or removed */\n",
       "    events.on('clear_output.CodeCell', handleClearOutput);\n",
       "    events.on('delete.Cell', handleClearOutput);\n",
       "\n",
       "    /* Handle when a new output is added */\n",
       "    events.on('output_added.OutputArea', handleAddOutput);\n",
       "\n",
       "    /**\n",
       "     * Register the mime type and append_mime function with output_area\n",
       "     */\n",
       "    OutputArea.prototype.register_mime_type(EXEC_MIME_TYPE, append_mime, {\n",
       "      /* Is output safe? */\n",
       "      safe: true,\n",
       "      /* Index of renderer in `output_area.display_order` */\n",
       "      index: 0\n",
       "    });\n",
       "  }\n",
       "\n",
       "  // register the mime type if in Jupyter Notebook environment and previously unregistered\n",
       "  if (root.Jupyter !== undefined) {\n",
       "    const events = require('base/js/events');\n",
       "    const OutputArea = require('notebook/js/outputarea').OutputArea;\n",
       "\n",
       "    if (OutputArea.prototype.mime_types().indexOf(EXEC_MIME_TYPE) == -1) {\n",
       "      register_renderer(events, OutputArea);\n",
       "    }\n",
       "  }\n",
       "  if (typeof (root._bokeh_timeout) === \"undefined\" || force === true) {\n",
       "    root._bokeh_timeout = Date.now() + 5000;\n",
       "    root._bokeh_failed_load = false;\n",
       "  }\n",
       "\n",
       "  const NB_LOAD_WARNING = {'data': {'text/html':\n",
       "     \"<div style='background-color: #fdd'>\\n\"+\n",
       "     \"<p>\\n\"+\n",
       "     \"BokehJS does not appear to have successfully loaded. If loading BokehJS from CDN, this \\n\"+\n",
       "     \"may be due to a slow or bad network connection. Possible fixes:\\n\"+\n",
       "     \"</p>\\n\"+\n",
       "     \"<ul>\\n\"+\n",
       "     \"<li>re-rerun `output_notebook()` to attempt to load from CDN again, or</li>\\n\"+\n",
       "     \"<li>use INLINE resources instead, as so:</li>\\n\"+\n",
       "     \"</ul>\\n\"+\n",
       "     \"<code>\\n\"+\n",
       "     \"from bokeh.resources import INLINE\\n\"+\n",
       "     \"output_notebook(resources=INLINE)\\n\"+\n",
       "     \"</code>\\n\"+\n",
       "     \"</div>\"}};\n",
       "\n",
       "  function display_loaded() {\n",
       "    const el = document.getElementById(\"1002\");\n",
       "    if (el != null) {\n",
       "      el.textContent = \"BokehJS is loading...\";\n",
       "    }\n",
       "    if (root.Bokeh !== undefined) {\n",
       "      if (el != null) {\n",
       "        el.textContent = \"BokehJS \" + root.Bokeh.version + \" successfully loaded.\";\n",
       "      }\n",
       "    } else if (Date.now() < root._bokeh_timeout) {\n",
       "      setTimeout(display_loaded, 100)\n",
       "    }\n",
       "  }\n",
       "\n",
       "  function run_callbacks() {\n",
       "    try {\n",
       "      root._bokeh_onload_callbacks.forEach(function(callback) {\n",
       "        if (callback != null)\n",
       "          callback();\n",
       "      });\n",
       "    } finally {\n",
       "      delete root._bokeh_onload_callbacks\n",
       "    }\n",
       "    console.debug(\"Bokeh: all callbacks have finished\");\n",
       "  }\n",
       "\n",
       "  function load_libs(css_urls, js_urls, callback) {\n",
       "    if (css_urls == null) css_urls = [];\n",
       "    if (js_urls == null) js_urls = [];\n",
       "\n",
       "    root._bokeh_onload_callbacks.push(callback);\n",
       "    if (root._bokeh_is_loading > 0) {\n",
       "      console.debug(\"Bokeh: BokehJS is being loaded, scheduling callback at\", now());\n",
       "      return null;\n",
       "    }\n",
       "    if (js_urls == null || js_urls.length === 0) {\n",
       "      run_callbacks();\n",
       "      return null;\n",
       "    }\n",
       "    console.debug(\"Bokeh: BokehJS not loaded, scheduling load and callback at\", now());\n",
       "    root._bokeh_is_loading = css_urls.length + js_urls.length;\n",
       "\n",
       "    function on_load() {\n",
       "      root._bokeh_is_loading--;\n",
       "      if (root._bokeh_is_loading === 0) {\n",
       "        console.debug(\"Bokeh: all BokehJS libraries/stylesheets loaded\");\n",
       "        run_callbacks()\n",
       "      }\n",
       "    }\n",
       "\n",
       "    function on_error(url) {\n",
       "      console.error(\"failed to load \" + url);\n",
       "    }\n",
       "\n",
       "    for (let i = 0; i < css_urls.length; i++) {\n",
       "      const url = css_urls[i];\n",
       "      const element = document.createElement(\"link\");\n",
       "      element.onload = on_load;\n",
       "      element.onerror = on_error.bind(null, url);\n",
       "      element.rel = \"stylesheet\";\n",
       "      element.type = \"text/css\";\n",
       "      element.href = url;\n",
       "      console.debug(\"Bokeh: injecting link tag for BokehJS stylesheet: \", url);\n",
       "      document.body.appendChild(element);\n",
       "    }\n",
       "\n",
       "    for (let i = 0; i < js_urls.length; i++) {\n",
       "      const url = js_urls[i];\n",
       "      const element = document.createElement('script');\n",
       "      element.onload = on_load;\n",
       "      element.onerror = on_error.bind(null, url);\n",
       "      element.async = false;\n",
       "      element.src = url;\n",
       "      console.debug(\"Bokeh: injecting script tag for BokehJS library: \", url);\n",
       "      document.head.appendChild(element);\n",
       "    }\n",
       "  };\n",
       "\n",
       "  function inject_raw_css(css) {\n",
       "    const element = document.createElement(\"style\");\n",
       "    element.appendChild(document.createTextNode(css));\n",
       "    document.body.appendChild(element);\n",
       "  }\n",
       "\n",
       "  const js_urls = [\"https://cdn.bokeh.org/bokeh/release/bokeh-2.4.3.min.js\", \"https://cdn.bokeh.org/bokeh/release/bokeh-gl-2.4.3.min.js\", \"https://cdn.bokeh.org/bokeh/release/bokeh-widgets-2.4.3.min.js\", \"https://cdn.bokeh.org/bokeh/release/bokeh-tables-2.4.3.min.js\", \"https://cdn.bokeh.org/bokeh/release/bokeh-mathjax-2.4.3.min.js\"];\n",
       "  const css_urls = [];\n",
       "\n",
       "  const inline_js = [    function(Bokeh) {\n",
       "      Bokeh.set_log_level(\"info\");\n",
       "    },\n",
       "function(Bokeh) {\n",
       "    }\n",
       "  ];\n",
       "\n",
       "  function run_inline_js() {\n",
       "    if (root.Bokeh !== undefined || force === true) {\n",
       "          for (let i = 0; i < inline_js.length; i++) {\n",
       "      inline_js[i].call(root, root.Bokeh);\n",
       "    }\n",
       "if (force === true) {\n",
       "        display_loaded();\n",
       "      }} else if (Date.now() < root._bokeh_timeout) {\n",
       "      setTimeout(run_inline_js, 100);\n",
       "    } else if (!root._bokeh_failed_load) {\n",
       "      console.log(\"Bokeh: BokehJS failed to load within specified timeout.\");\n",
       "      root._bokeh_failed_load = true;\n",
       "    } else if (force !== true) {\n",
       "      const cell = $(document.getElementById(\"1002\")).parents('.cell').data().cell;\n",
       "      cell.output_area.append_execute_result(NB_LOAD_WARNING)\n",
       "    }\n",
       "  }\n",
       "\n",
       "  if (root._bokeh_is_loading === 0) {\n",
       "    console.debug(\"Bokeh: BokehJS loaded, going straight to plotting\");\n",
       "    run_inline_js();\n",
       "  } else {\n",
       "    load_libs(css_urls, js_urls, function() {\n",
       "      console.debug(\"Bokeh: BokehJS plotting callback run at\", now());\n",
       "      run_inline_js();\n",
       "    });\n",
       "  }\n",
       "}(window));"
      ],
      "application/vnd.bokehjs_load.v0+json": "(function(root) {\n  function now() {\n    return new Date();\n  }\n\n  const force = true;\n\n  if (typeof root._bokeh_onload_callbacks === \"undefined\" || force === true) {\n    root._bokeh_onload_callbacks = [];\n    root._bokeh_is_loading = undefined;\n  }\n\n\n  if (typeof (root._bokeh_timeout) === \"undefined\" || force === true) {\n    root._bokeh_timeout = Date.now() + 5000;\n    root._bokeh_failed_load = false;\n  }\n\n  const NB_LOAD_WARNING = {'data': {'text/html':\n     \"<div style='background-color: #fdd'>\\n\"+\n     \"<p>\\n\"+\n     \"BokehJS does not appear to have successfully loaded. If loading BokehJS from CDN, this \\n\"+\n     \"may be due to a slow or bad network connection. Possible fixes:\\n\"+\n     \"</p>\\n\"+\n     \"<ul>\\n\"+\n     \"<li>re-rerun `output_notebook()` to attempt to load from CDN again, or</li>\\n\"+\n     \"<li>use INLINE resources instead, as so:</li>\\n\"+\n     \"</ul>\\n\"+\n     \"<code>\\n\"+\n     \"from bokeh.resources import INLINE\\n\"+\n     \"output_notebook(resources=INLINE)\\n\"+\n     \"</code>\\n\"+\n     \"</div>\"}};\n\n  function display_loaded() {\n    const el = document.getElementById(\"1002\");\n    if (el != null) {\n      el.textContent = \"BokehJS is loading...\";\n    }\n    if (root.Bokeh !== undefined) {\n      if (el != null) {\n        el.textContent = \"BokehJS \" + root.Bokeh.version + \" successfully loaded.\";\n      }\n    } else if (Date.now() < root._bokeh_timeout) {\n      setTimeout(display_loaded, 100)\n    }\n  }\n\n  function run_callbacks() {\n    try {\n      root._bokeh_onload_callbacks.forEach(function(callback) {\n        if (callback != null)\n          callback();\n      });\n    } finally {\n      delete root._bokeh_onload_callbacks\n    }\n    console.debug(\"Bokeh: all callbacks have finished\");\n  }\n\n  function load_libs(css_urls, js_urls, callback) {\n    if (css_urls == null) css_urls = [];\n    if (js_urls == null) js_urls = [];\n\n    root._bokeh_onload_callbacks.push(callback);\n    if (root._bokeh_is_loading > 0) {\n      console.debug(\"Bokeh: BokehJS is being loaded, scheduling callback at\", now());\n      return null;\n    }\n    if (js_urls == null || js_urls.length === 0) {\n      run_callbacks();\n      return null;\n    }\n    console.debug(\"Bokeh: BokehJS not loaded, scheduling load and callback at\", now());\n    root._bokeh_is_loading = css_urls.length + js_urls.length;\n\n    function on_load() {\n      root._bokeh_is_loading--;\n      if (root._bokeh_is_loading === 0) {\n        console.debug(\"Bokeh: all BokehJS libraries/stylesheets loaded\");\n        run_callbacks()\n      }\n    }\n\n    function on_error(url) {\n      console.error(\"failed to load \" + url);\n    }\n\n    for (let i = 0; i < css_urls.length; i++) {\n      const url = css_urls[i];\n      const element = document.createElement(\"link\");\n      element.onload = on_load;\n      element.onerror = on_error.bind(null, url);\n      element.rel = \"stylesheet\";\n      element.type = \"text/css\";\n      element.href = url;\n      console.debug(\"Bokeh: injecting link tag for BokehJS stylesheet: \", url);\n      document.body.appendChild(element);\n    }\n\n    for (let i = 0; i < js_urls.length; i++) {\n      const url = js_urls[i];\n      const element = document.createElement('script');\n      element.onload = on_load;\n      element.onerror = on_error.bind(null, url);\n      element.async = false;\n      element.src = url;\n      console.debug(\"Bokeh: injecting script tag for BokehJS library: \", url);\n      document.head.appendChild(element);\n    }\n  };\n\n  function inject_raw_css(css) {\n    const element = document.createElement(\"style\");\n    element.appendChild(document.createTextNode(css));\n    document.body.appendChild(element);\n  }\n\n  const js_urls = [\"https://cdn.bokeh.org/bokeh/release/bokeh-2.4.3.min.js\", \"https://cdn.bokeh.org/bokeh/release/bokeh-gl-2.4.3.min.js\", \"https://cdn.bokeh.org/bokeh/release/bokeh-widgets-2.4.3.min.js\", \"https://cdn.bokeh.org/bokeh/release/bokeh-tables-2.4.3.min.js\", \"https://cdn.bokeh.org/bokeh/release/bokeh-mathjax-2.4.3.min.js\"];\n  const css_urls = [];\n\n  const inline_js = [    function(Bokeh) {\n      Bokeh.set_log_level(\"info\");\n    },\nfunction(Bokeh) {\n    }\n  ];\n\n  function run_inline_js() {\n    if (root.Bokeh !== undefined || force === true) {\n          for (let i = 0; i < inline_js.length; i++) {\n      inline_js[i].call(root, root.Bokeh);\n    }\nif (force === true) {\n        display_loaded();\n      }} else if (Date.now() < root._bokeh_timeout) {\n      setTimeout(run_inline_js, 100);\n    } else if (!root._bokeh_failed_load) {\n      console.log(\"Bokeh: BokehJS failed to load within specified timeout.\");\n      root._bokeh_failed_load = true;\n    } else if (force !== true) {\n      const cell = $(document.getElementById(\"1002\")).parents('.cell').data().cell;\n      cell.output_area.append_execute_result(NB_LOAD_WARNING)\n    }\n  }\n\n  if (root._bokeh_is_loading === 0) {\n    console.debug(\"Bokeh: BokehJS loaded, going straight to plotting\");\n    run_inline_js();\n  } else {\n    load_libs(css_urls, js_urls, function() {\n      console.debug(\"Bokeh: BokehJS plotting callback run at\", now());\n      run_inline_js();\n    });\n  }\n}(window));"
     },
     "metadata": {},
     "output_type": "display_data"
    },
    {
     "data": {
      "text/html": [
       "<div style=\"display: table;\"><div style=\"display: table-row;\"><div style=\"display: table-cell;\"><b title=\"bokeh.models.renderers.GlyphRenderer\">GlyphRenderer</b>(</div><div style=\"display: table-cell;\">id&nbsp;=&nbsp;'1039', <span id=\"1042\" style=\"cursor: pointer;\">&hellip;)</span></div></div><div class=\"1041\" style=\"display: none;\"><div style=\"display: table-cell;\"></div><div style=\"display: table-cell;\">coordinates&nbsp;=&nbsp;None,</div></div><div class=\"1041\" style=\"display: none;\"><div style=\"display: table-cell;\"></div><div style=\"display: table-cell;\">data_source&nbsp;=&nbsp;ColumnDataSource(id='1003', ...),</div></div><div class=\"1041\" style=\"display: none;\"><div style=\"display: table-cell;\"></div><div style=\"display: table-cell;\">glyph&nbsp;=&nbsp;Scatter(id='1036', ...),</div></div><div class=\"1041\" style=\"display: none;\"><div style=\"display: table-cell;\"></div><div style=\"display: table-cell;\">group&nbsp;=&nbsp;None,</div></div><div class=\"1041\" style=\"display: none;\"><div style=\"display: table-cell;\"></div><div style=\"display: table-cell;\">hover_glyph&nbsp;=&nbsp;None,</div></div><div class=\"1041\" style=\"display: none;\"><div style=\"display: table-cell;\"></div><div style=\"display: table-cell;\">js_event_callbacks&nbsp;=&nbsp;{},</div></div><div class=\"1041\" style=\"display: none;\"><div style=\"display: table-cell;\"></div><div style=\"display: table-cell;\">js_property_callbacks&nbsp;=&nbsp;{},</div></div><div class=\"1041\" style=\"display: none;\"><div style=\"display: table-cell;\"></div><div style=\"display: table-cell;\">level&nbsp;=&nbsp;'glyph',</div></div><div class=\"1041\" style=\"display: none;\"><div style=\"display: table-cell;\"></div><div style=\"display: table-cell;\">muted&nbsp;=&nbsp;False,</div></div><div class=\"1041\" style=\"display: none;\"><div style=\"display: table-cell;\"></div><div style=\"display: table-cell;\">muted_glyph&nbsp;=&nbsp;Scatter(id='1038', ...),</div></div><div class=\"1041\" style=\"display: none;\"><div style=\"display: table-cell;\"></div><div style=\"display: table-cell;\">name&nbsp;=&nbsp;None,</div></div><div class=\"1041\" style=\"display: none;\"><div style=\"display: table-cell;\"></div><div style=\"display: table-cell;\">nonselection_glyph&nbsp;=&nbsp;Scatter(id='1037', ...),</div></div><div class=\"1041\" style=\"display: none;\"><div style=\"display: table-cell;\"></div><div style=\"display: table-cell;\">selection_glyph&nbsp;=&nbsp;'auto',</div></div><div class=\"1041\" style=\"display: none;\"><div style=\"display: table-cell;\"></div><div style=\"display: table-cell;\">subscribed_events&nbsp;=&nbsp;[],</div></div><div class=\"1041\" style=\"display: none;\"><div style=\"display: table-cell;\"></div><div style=\"display: table-cell;\">syncable&nbsp;=&nbsp;True,</div></div><div class=\"1041\" style=\"display: none;\"><div style=\"display: table-cell;\"></div><div style=\"display: table-cell;\">tags&nbsp;=&nbsp;[],</div></div><div class=\"1041\" style=\"display: none;\"><div style=\"display: table-cell;\"></div><div style=\"display: table-cell;\">view&nbsp;=&nbsp;CDSView(id='1040', ...),</div></div><div class=\"1041\" style=\"display: none;\"><div style=\"display: table-cell;\"></div><div style=\"display: table-cell;\">visible&nbsp;=&nbsp;True,</div></div><div class=\"1041\" style=\"display: none;\"><div style=\"display: table-cell;\"></div><div style=\"display: table-cell;\">x_range_name&nbsp;=&nbsp;'default',</div></div><div class=\"1041\" style=\"display: none;\"><div style=\"display: table-cell;\"></div><div style=\"display: table-cell;\">y_range_name&nbsp;=&nbsp;'default')</div></div></div>\n",
       "<script>\n",
       "(function() {\n",
       "  let expanded = false;\n",
       "  const ellipsis = document.getElementById(\"1042\");\n",
       "  ellipsis.addEventListener(\"click\", function() {\n",
       "    const rows = document.getElementsByClassName(\"1041\");\n",
       "    for (let i = 0; i < rows.length; i++) {\n",
       "      const el = rows[i];\n",
       "      el.style.display = expanded ? \"none\" : \"table-row\";\n",
       "    }\n",
       "    ellipsis.innerHTML = expanded ? \"&hellip;)\" : \"&lsaquo;&lsaquo;&lsaquo;\";\n",
       "    expanded = !expanded;\n",
       "  });\n",
       "})();\n",
       "</script>\n"
      ],
      "text/plain": [
       "GlyphRenderer(id='1039', ...)"
      ]
     },
     "execution_count": 35,
     "metadata": {},
     "output_type": "execute_result"
    }
   ],
   "source": [
    "from bokeh.io import show, output_notebook, push_notebook\n",
    "from bokeh.plotting import figure\n",
    "from bokeh.models import ColumnDataSource, HoverTool\n",
    "output_notebook()\n",
    "\n",
    "# Make a source and a scatter plot  \n",
    "source = ColumnDataSource(data=dict(\n",
    "    x=moisturizers_dry['X'],\n",
    "    y=moisturizers_dry['Y'],\n",
    "    name=moisturizers_dry['Name'],\n",
    "    brand=moisturizers_dry['Brand'],\n",
    "    price=moisturizers_dry['Price'],\n",
    "    rank=moisturizers_dry['Rank']\n",
    "))\n",
    "\n",
    "# Create a scatter plot\n",
    "plot = figure(x_axis_label='t-SNE Dimension 1', \n",
    "              y_axis_label='t-SNE Dimension 2', \n",
    "              width=500, height=400)\n",
    "\n",
    "# Add scatter renderer\n",
    "plot.scatter(x='x', \n",
    "             y='y', \n",
    "             source=source, \n",
    "             size=10, \n",
    "             color='#FF7373', \n",
    "             alpha=0.8)"
   ]
  },
  {
   "cell_type": "markdown",
   "metadata": {
    "dc": {
     "key": "62"
    },
    "deletable": false,
    "editable": false,
    "run_control": {
     "frozen": true
    },
    "tags": [
     "context"
    ]
   },
   "source": [
    "## 9. Adding a hover tool\n",
    "<p>Why don't we add a hover tool? Adding a hover tool allows us to check the information of each item whenever the cursor is directly over a glyph. We'll add tooltips with each product's name, brand, price, and rank (i.e., rating).</p>"
   ]
  },
  {
   "cell_type": "code",
   "execution_count": 36,
   "metadata": {
    "dc": {
     "key": "62"
    },
    "tags": [
     "sample_code"
    ]
   },
   "outputs": [],
   "source": [
    "# Create a HoverTool object\n",
    "hover = HoverTool()\n",
    "hover.tooltips = [\n",
    "    ('Name', '@name'),\n",
    "    ('Brand', '@brand'),\n",
    "    ('Price', '@price'),\n",
    "    ('Rank', '@rank')\n",
    "]\n",
    "plot.add_tools(hover)\n",
    "\n"
   ]
  },
  {
   "cell_type": "markdown",
   "metadata": {
    "dc": {
     "key": "69"
    },
    "deletable": false,
    "editable": false,
    "run_control": {
     "frozen": true
    },
    "tags": [
     "context"
    ]
   },
   "source": [
    "## 10. Mapping the cosmetic items\n",
    "<p>Finally, it's show time! Let's see how the map we've made looks like. Each point on the plot corresponds to the cosmetic items. Then what do the axes mean here? The axes of a t-SNE plot aren't easily interpretable in terms of the original data. Like mentioned above, t-SNE is a visualizing technique to plot high-dimensional data in a low-dimensional space. Therefore, it's not desirable to interpret a t-SNE plot quantitatively.</p>\n",
    "<p>Instead, what we can get from this map is the distance between the points (which items are close and which are far apart). The closer the distance between the two items is, the more similar the composition they have. Therefore this enables us to compare the items without having any chemistry background.</p>"
   ]
  },
  {
   "cell_type": "code",
   "execution_count": 37,
   "metadata": {
    "dc": {
     "key": "69"
    },
    "tags": [
     "sample_code"
    ]
   },
   "outputs": [
    {
     "data": {
      "text/html": [
       "\n",
       "  <div class=\"bk-root\" id=\"c022408a-2d9c-48c1-bb73-8af981745ec4\" data-root-id=\"1004\"></div>\n"
      ]
     },
     "metadata": {},
     "output_type": "display_data"
    },
    {
     "data": {
      "application/javascript": [
       "(function(root) {\n",
       "  function embed_document(root) {\n",
       "  const docs_json = {\"fbc6c9f6-0270-420d-ad0b-08517d9277d0\":{\"defs\":[],\"roots\":{\"references\":[{\"attributes\":{\"below\":[{\"id\":\"1013\"}],\"center\":[{\"id\":\"1016\"},{\"id\":\"1020\"}],\"height\":400,\"left\":[{\"id\":\"1017\"}],\"renderers\":[{\"id\":\"1039\"}],\"title\":{\"id\":\"1045\"},\"toolbar\":{\"id\":\"1028\"},\"width\":500,\"x_range\":{\"id\":\"1005\"},\"x_scale\":{\"id\":\"1009\"},\"y_range\":{\"id\":\"1007\"},\"y_scale\":{\"id\":\"1011\"}},\"id\":\"1004\",\"subtype\":\"Figure\",\"type\":\"Plot\"},{\"attributes\":{\"axis\":{\"id\":\"1017\"},\"coordinates\":null,\"dimension\":1,\"group\":null,\"ticker\":null},\"id\":\"1020\",\"type\":\"Grid\"},{\"attributes\":{},\"id\":\"1018\",\"type\":\"BasicTicker\"},{\"attributes\":{\"source\":{\"id\":\"1003\"}},\"id\":\"1040\",\"type\":\"CDSView\"},{\"attributes\":{},\"id\":\"1053\",\"type\":\"UnionRenderers\"},{\"attributes\":{},\"id\":\"1026\",\"type\":\"HelpTool\"},{\"attributes\":{},\"id\":\"1052\",\"type\":\"AllLabels\"},{\"attributes\":{},\"id\":\"1021\",\"type\":\"PanTool\"},{\"attributes\":{},\"id\":\"1054\",\"type\":\"Selection\"},{\"attributes\":{\"overlay\":{\"id\":\"1027\"}},\"id\":\"1023\",\"type\":\"BoxZoomTool\"},{\"attributes\":{\"callback\":null,\"tooltips\":[[\"Name\",\"@name\"],[\"Brand\",\"@brand\"],[\"Price\",\"@price\"],[\"Rank\",\"@rank\"]]},\"id\":\"1043\",\"type\":\"HoverTool\"},{\"attributes\":{},\"id\":\"1024\",\"type\":\"SaveTool\"},{\"attributes\":{},\"id\":\"1025\",\"type\":\"ResetTool\"},{\"attributes\":{\"bottom_units\":\"screen\",\"coordinates\":null,\"fill_alpha\":0.5,\"fill_color\":\"lightgrey\",\"group\":null,\"left_units\":\"screen\",\"level\":\"overlay\",\"line_alpha\":1.0,\"line_color\":\"black\",\"line_dash\":[4,4],\"line_width\":2,\"right_units\":\"screen\",\"syncable\":false,\"top_units\":\"screen\"},\"id\":\"1027\",\"type\":\"BoxAnnotation\"},{\"attributes\":{},\"id\":\"1051\",\"type\":\"BasicTickFormatter\"},{\"attributes\":{\"coordinates\":null,\"data_source\":{\"id\":\"1003\"},\"glyph\":{\"id\":\"1036\"},\"group\":null,\"hover_glyph\":null,\"muted_glyph\":{\"id\":\"1038\"},\"nonselection_glyph\":{\"id\":\"1037\"},\"view\":{\"id\":\"1040\"}},\"id\":\"1039\",\"type\":\"GlyphRenderer\"},{\"attributes\":{},\"id\":\"1049\",\"type\":\"AllLabels\"},{\"attributes\":{\"data\":{\"brand\":[\"LA MER\",\"SK-II\",\"DRUNK ELEPHANT\",\"LA MER\",\"IT COSMETICS\",\"DRUNK ELEPHANT\",\"DRUNK ELEPHANT\",\"KIEHL'S SINCE 1851\",\"KIEHL'S SINCE 1851\",\"SUNDAY RILEY\",\"FARMACY\",\"DRUNK ELEPHANT\",\"FIRST AID BEAUTY\",\"CLINIQUE\",\"SK-II\",\"LA MER\",\"FRESH\",\"BELIF\",\"DRUNK ELEPHANT\",\"ORIGINS\",\"CLINIQUE\",\"SK-II\",\"TATCHA\",\"OLEHENRIKSEN\",\"JOSIE MARAN\",\"IT COSMETICS\",\"LANEIGE\",\"LANEIGE\",\"SK-II\",\"TATCHA\",\"SHISEIDO\",\"OLEHENRIKSEN\",\"SUNDAY RILEY\",\"GLOW RECIPE\",\"HERBIVORE\",\"SUNDAY RILEY\",\"CAUDALIE\",\"YOUTH TO THE PEOPLE\",\"LA MER\",\"BIOSSANCE\",\"TARTE\",\"ORIGINS\",\"SON & PARK\",\"TATCHA\",\"OLEHENRIKSEN\",\"AMOREPACIFIC\",\"DR. JART+\",\"CAUDALIE\",\"ERBORIAN\",\"SUNDAY RILEY\",\"IT COSMETICS\",\"TATCHA\",\"GLAMGLOW\",\"DR. JART+\",\"SUNDAY RILEY\",\"LANEIGE\",\"AMOREPACIFIC\",\"GLAMGLOW\",\"FARMACY\",\"PETER THOMAS ROTH\",\"AMOREPACIFIC\",\"IT COSMETICS\",\"FRESH\",\"FIRST AID BEAUTY\",\"IT COSMETICS\",\"SHISEIDO\",\"CLINIQUE\",\"JOSIE MARAN\",\"LANEIGE\",\"LA MER\",\"PHILOSOPHY\",\"PERRICONE MD\",\"LANC\\u00d4ME\",\"ALGENIST\",\"DR. JART+\",\"JOSIE MARAN\",\"OLEHENRIKSEN\",\"FARMACY\",\"ORIGINS\",\"HERBIVORE\",\"OLEHENRIKSEN\",\"BELIF\",\"TATCHA\",\"BIOSSANCE\",\"ORIGINS\",\"KIEHL'S SINCE 1851\",\"KORRES\",\"BELIF\",\"YOUTH TO THE PEOPLE\",\"IT COSMETICS\",\"TARTE\",\"SMASHBOX\",\"FIRST AID BEAUTY\",\"MURAD\",\"TATCHA\",\"GUERLAIN\",\"BIOSSANCE\",\"SMASHBOX\",\"ORIGINS\",\"KORA ORGANICS\",\"SK-II\",\"DR. DENNIS GROSS SKINCARE\",\"REN CLEAN SKINCARE\",\"DIOR\",\"FIRST AID BEAUTY\",\"ORIGINS\",\"BIOSSANCE\",\"FIRST AID BEAUTY\",\"GUERLAIN\",\"FRESH\",\"ORIGINS\",\"LA MER\",\"CAUDALIE\",\"MURAD\",\"KOPARI\",\"SHISEIDO\",\"SHISEIDO\",\"LA MER\",\"LANCER\",\"TATCHA\",\"DR. DENNIS GROSS SKINCARE\",\"SMASHBOX\",\"SUPERGOOP!\",\"ORIGINS\",\"CAUDALIE\",\"CAUDALIE\",\"SHISEIDO\",\"DR. DENNIS GROSS SKINCARE\",\"KORRES\",\"SATURDAY SKIN\",\"JOSIE MARAN\",\"MILK MAKEUP\",\"EST\\u00c9E LAUDER\",\"OLEHENRIKSEN\",\"CLINIQUE\",\"PHILOSOPHY\",\"KIEHL'S SINCE 1851\",\"SK-II\",\"CAUDALIE\",\"CLARINS\",\"AMOREPACIFIC\",\"ERBORIAN\",\"PHILOSOPHY\",\"JOSIE MARAN\",\"KIEHL'S SINCE 1851\",\"FARMACY\",\"PHILOSOPHY\",\"AMOREPACIFIC\",\"SHISEIDO\",\"CAUDALIE\",\"KATE SOMERVILLE\",\"DR. DENNIS GROSS SKINCARE\",\"EST\\u00c9E LAUDER\",\"MURAD\",\"GUERLAIN\",\"AMOREPACIFIC\",\"CLARINS\",\"EST\\u00c9E LAUDER\",\"DR. BRANDT SKINCARE\",\"LANEIGE\",\"SHISEIDO\",\"LANC\\u00d4ME\",\"BIOSSANCE\",\"ORIGINS\",\"LANC\\u00d4ME\",\"KATE SOMERVILLE\",\"J.ONE\",\"KATE SOMERVILLE\",\"PERRICONE MD\",\"JOSIE MARAN\",\"TATA HARPER\",\"DR. JART+\",\"HERBIVORE\",\"LANC\\u00d4ME\",\"CAUDALIE\",\"LANC\\u00d4ME\",\"FIRST AID BEAUTY\",\"HERBIVORE\",\"TATA HARPER\",\"CLINIQUE\",\"PHILOSOPHY\",\"KIEHL'S SINCE 1851\",\"DIOR\",\"GLAMGLOW\",\"ALGENIST\",\"KIEHL'S SINCE 1851\",\"SHISEIDO\",\"SATURDAY SKIN\",\"KATE SOMERVILLE\",\"GO-TO\"],\"name\":[\"Cr\\u00e8me de la Mer\",\"Facial Treatment Essence\",\"Protini\\u2122 Polypeptide Cream\",\"The Moisturizing Soft Cream\",\"Your Skin But Better\\u2122 CC+\\u2122 Cream with SPF 50+\",\"Lala Retro\\u2122 Whipped Cream\",\"Virgin Marula Luxury Facial Oil\",\"Ultra Facial Cream\",\"Midnight Recovery Concentrate\",\"Luna Sleeping Night Oil\",\"Honeymoon Glow AHA Resurfacing Night Serum with Echinacea GreenEnvy\\u2122\",\"The Littles\\u2122\",\"Ultra Repair\\u00ae Cream Intense Hydration\",\"Moisture Surge 72-Hour Auto-Replenishing Hydrator\",\"R.N.A. POWER Face Cream\",\"Cr\\u00e8me de la Mer Mini\",\"Black Tea Firming Overnight Mask\",\"The True Cream Moisturizing Bomb\",\"Virgin Marula Luxury Facial Oil Mini\",\"Dr. Andrew Weil For Origins\\u2122 Mega-Mushroom Relief & Resilience Soothing Treatment Lotion\",\"Dramatically Different Moisturizing Lotion+\",\"GenOptics Aura Essence Serum\",\"Pure One Step Camellia Cleansing Oil\",\"Sheer Transformation\\u00ae Perfecting Moisturizer\",\"100 percent Pure Argan Oil\",\"Your Skin But Better CC+ Cream Oil-Free Matte with SPF 40\",\"Water Sleeping Mask\",\"Water Bank Moisture Cream\",\"Facial Treatment Essence Mini\",\"Luminous Dewy Skin Mist\",\"Benefiance WrinkleResist24 Night Cream\",\"Goodnight Glow Retin-ALT Sleeping Cr\\u00e8me\",\"U.F.O. Ultra-Clarifying Face Oil\",\"Watermelon Glow Sleeping Mask\",\"Pink Cloud Rosewater Moisture Cr\\u00e8me\",\"Tidal Brightening Enzyme Water Cream\",\"Grape Water\",\"Adaptogen Deep Moisture Cream\",\"The Renewal Oil\",\"Squalane + Vitamin C Rose Oil\",\"BB Tinted Treatment 12-Hour Primer Broad Spectrum SPF 30 Sunscreen\",\"GinZing\\u2122 Energy-Boosting Gel Moisturizer\",\"Beauty Water\",\"The Silk Cream\",\"C-Rush\\u2122 Brightening Gel Cr\\u00e8me\",\"Color Control Cushion Compact Broad Spectrum SPF 50+\",\"Cicapair \\u2122 Tiger Grass Color Correcting Treatment SPF 30\",\"Vinosource Moisturizing Sorbet\",\"CC Cr\\u00e8me High Definition Radiance Face Cream Skin Perfector\",\"C.E.O. C + E antiOXIDANT Protect + Repair Moisturizer\",\"Your Skin But Better\\u2122 CC+Illumination\\u2122 Cream with SPF 50+\",\"Luminous Dewy Skin Night Concentrate\",\"GLOWSTARTER\\u2122 Mega Illuminating Moisturizer\",\"Ceramidin\\u2122 Cream\",\"Juno Antioxidant + Superfood Face Oil\",\"BB Cushion Hydra Radiance SPF 50\",\"FUTURE RESPONSE Age Defense Creme\",\"THIRSTYMUD\\u2122 Hydrating Treatment\",\"Honey Drop Lightweight Moisturizer with Echinacea GreenEnvy\\u2122\",\"Water Drench Hyaluronic Cloud Cream\",\"Vintage Single Extract Essence\",\"Confidence in a Cream\\u2122 Transforming Moisturizing Super Cream\",\"Cr\\u00e8me Ancienne\\u00ae\",\"Hello FAB Coconut Skin Smoothie Priming Moisturizer\",\"Secret Sauce Clinically Advanced Miraculous Anti-Aging Moisturizer\",\"Benefiance WrinkleResist24 Day Cream Broad Spectrum SPF 18\",\"Moisture Surge Intense Skin Fortifying Hydrator\",\"Argan Daily Moisturizer SPF 47\",\"Water Bank Essence\",\"The Moisturizing Cool Gel Cream\",\"Renewed Hope in A Jar Refreshing & Refining Moisturizer\",\"Cold Plasma Sub-D Firming Neck Treatment\",\"R\\u00e9nergie Lift Multi-Action Night\",\"GENIUS Ultimate Anti-Aging Cream\",\"Cicapair\\u2122 Tiger Grass Cream\",\"Whipped Argan Oil Face Butter\",\"Nurture Me\\u2122 Moisturizing Cr\\u00e8me\",\"Sleep Tight Firming Night Balm with Echinacea GreenEnvy\\u2122\",\"Original Skin\\u2122 Matte Moisturizer with Willowherb\",\"Phoenix Cell Regenerating Facial Oil\",\"Invigorating Night Transformation\\u2122 Gel\",\"Aqua Bomb Sleeping Mask\",\"The Indigo Cream Soothing Skin Protectant\",\"Squalane + Omega Repair Cream\",\"High-Potency Night-a-Mins\\u2122 Resurfacing Cream with Fruit-Derived AHAs\",\"Daily Reviving Concentrate\",\"Wild Rose + Vitamin C Advanced Brightening Sleeping Facial\",\"Peat Miracle Revital Cream\",\"Superberry Hydrate + Glow Oil\",\"Miracle Water 3-in-1 Micellar Cleanser\",\"Drink of H2O Hydrating Boost Moisturizer Rainforest of the Sea\\u2122\",\"Photo Finish Primer Water\",\"Ultra Repair Hydra-Firm Sleeping Cream\",\"Retinol Youth Renewal Night Cream\",\"The Essence Plumping Skin Softener\",\"Midnight Secret Late Night Recovery Treatment\",\"Squalane + Probiotic Gel Moisturizer\",\"Photo Finish Primerizer\",\"A Perfect World\\u2122 SPF 40 Age-Defense Moisturizer with White Tea\",\"Noni Glow Face Oil\",\"GenOptics Spot Essence Serum\",\"Ferulic + Retinol Anti-Aging Moisturizer\",\"Evercalm\\u2122 Overnight Recovery Balm\",\"Capture Totale Dreamskin Advanced\",\"Ultra Repair\\u00ae Hydrating Serum\",\"Dr. Andrew Weil For Origins\\u2122 Mega-Bright SPF 30 Skin Tone Correcting Oil-Free Moisturizer\",\"100% Squalane Oil\",\"Ultra Repair Face Moisturizer\",\"Abeille Royale Youth Watery Oil\",\"Black Tea Age-Delay Cream\",\"Plantscription\\u2122 SPF 25 Power Anti-Aging Cream\",\"The Moisturizing Soft Lotion\",\"Resveratrol Lift Night Infusion Cream\",\"Essential-C Day Moisture Broad Spectrum SPF 30 PA+++\",\"Coconut Melt\",\"Future Solution LX Total Regenerating Cream\",\"Ibuki Refining Moisturizer Enriched\",\"The Renewal Oil Mini\",\"The Method: Nourish\",\"Gold Camellia Beauty Oil\",\"Ferulic + Retinol Wrinkle Recovery Overnight Serum\",\"Camera Ready CC Cream Broad Spectrum SPF 30 Dark Spot Correcting\",\"CC Cream Daily Correct Broad Spectrum SPF 35+ Sunscreen\",\"GinZing\\u2122 SPF 40 Energy-Boosting Tinted Moisturizer\",\"Premier Cru Cream\",\"Resveratrol Lift Face Lifting Soft Cream\",\"White Lucent MultiBright Night Cream\",\"C+ Collagen Deep Cream\",\"Wild Rose Vitamin C Active Brightening Oil\",\"Waterfall Glacier Water Cream\",\"100 percent Pure Argan Oil Light\",\"Cooling Water\",\"Resilience Lift Night Lifting/Firming Face and Neck Creme\",\"Truth Revealed\\u2122 Brightening Broad Spectrum SPF 15 Moisturizer\",\"Moisture Surge Hydrating Supercharged Concentrate\",\"Miraculous Anti-wrinkle Miracle Worker\",\"Ultra Facial Overnight Hydrating Mask\",\"Cellumination Cream EX\",\"Vine[activ] Overnight Detox Oil\",\"Extra-Firming Neck Anti-Wrinkle Rejuvenating Cream\",\"MOISTURE BOUND Rejuvenating Cr\\u00e8me\",\"BB Cr\\u00e8me au Ginseng\",\"Renewed Hope in A Jar Overnight Recharging & Refining Moisturizer\",\"Argan Cleansing Oil\",\"Ultra Facial Moisturizer\",\"Honey Savior All-in-One Skin Repair Salve with Echinacea GreenEnvy\\u2122 Honey\",\"Ultimate Miracle Worker Multi-Rejuvenating Cream SPF 30\",\"Treatment Toner\",\"Bio-Performance LiftDynamic Cream\",\"Vinosource Intense Moisture Rescue Cream\",\"Wrinkle Warrior\\u2122 2-in-1 Plumping Moisturizer + Serum\",\"Hyaluronic Marine Oil-Free Moisture Cushion\",\"Advanced Night Repair Intensive Recovery Ampoules\",\"Nutrient-Charged Water Gel\",\"Lingerie de Peau BB Cream\",\"MOISTURE BOUND Refreshing Hydra-Gel Oil-Free\",\"Hydra-Essentiel Silky Cream - Normal to Dry Skin\",\"Revitalizing Supreme+ Global Anti-Aging Cell Power Creme SPF 15\",\"Do Not Age with Dr. Brandt Moisturizing Neck Cream\",\"Water Bank Dual Layer Face Oil\",\"Ibuki Beauty Sleeping Mask\",\"R\\u00e9nergie Lift Multi-Action Sunscreen Broad Spectrum SPF 15 For All Skin Types\",\"Squalane + Antioxidant Cleansing Oil\",\"Plantscription\\u2122 Youth-Renewing Power Night Cream\",\"\\u00c9nergie de Vie The Smoothing & Plumping Water-Infused Cream\",\"ExfoliKate Glow Moisturizer\",\"Jelly Pack\",\"RetAsphere\\u2122 2-in-1 Retinol Night Cream\",\"High Potency Classics: Face Finishing & Firming Moisturizer\",\"Argan Infinity Cream Intensive Creamy Oil\",\"Repairative Moisturizer\",\"Water Drop Hydrating Moisturizer\",\"Moon Fruit Superfruit Night Treatment\",\"Visionnaire Advanced Multi-Correcting Cream\",\"Premier Cru Rich Cream\",\"Hydra Zen Anti-Stress Gel Moisturizer\",\"5 in 1 Face Cream SPF 30\",\"Rose Hibiscus Coconut Water Hydrating Face Mist\",\"Retinoic Nutrient Face Oil\",\"Limited Edition Dramatically Different Moisturizing Lotion+\\u2122\",\"Hope In A Jar\",\"Ultra Facial Cream SPF 30\",\"Capture Youth Age-Delay Advanced Cr\\u00e8me\",\"DREAMDUO\\u2122 Overnight Transforming Treatment\",\"POWER Recharging Night Pressed Serum\",\"Ultra Facial Deep Moisture Balm\",\"White Lucent All Day Brightener Broad Spectrum SPF 23 Moisturizer\",\"Featherweight Daily Moisturizing Cream\",\"Goat Milk Moisturizing Cream\",\"Face Hero\"],\"price\":[175,179,68,175,38,60,72,29,47,105,58,90,30,39,230,85,92,38,40,34,28,240,48,38,48,38,25,35,99,48,63,55,80,45,48,65,10,58,245,72,37,29,30,120,44,60,52,39,44,65,38,110,49,48,72,38,195,59,45,52,145,48,290,28,68,60,39,32,36,175,39,135,122,112,48,40,40,48,35,88,48,34,85,58,45,47,48,58,44,38,39,32,38,82,95,29,52,42,45,68,225,75,48,115,36,56,58,24,50,90,60,270,76,63,28,280,45,130,125,95,88,42,34,39,140,76,92,72,54,39,48,24,92,55,39,60,35,160,50,90,150,39,49,32,29,34,75,50,115,39,95,60,115,60,54,100,48,82,67,38,40,99,30,60,55,65,42,85,69,28,110,36,58,88,140,48,40,32,48,39,39,29,95,59,95,29,62,49,65,34],\"rank\":{\"__ndarray__\":\"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\",\"dtype\":\"float64\",\"order\":\"little\",\"shape\":[190]},\"x\":{\"__ndarray__\":\"f1CFQDVWAUBAJA5AlqKYQBu+Gj1gEbO/UqU/P863j78/CD8/QyjouxK6/z/KFb+/00xAQIS2rr+n0BNAflCFQOuz5z9eh8M+YMc/P9o9yD91uDq+EStGQMPe176jcT8/8BU/P1yFOT0WEs0/SlWkPzhmAUBc/CO/c3v4vxVWlT8cGQa+MLnGP8Atmz+jSUM+yP88PzS+Tz781JpAE3vZPucKpj4av1q/y/YVQJL2A796jZg/XBRYPqacEUCH6oM/7cvnv8NyyL5YERE9rdgevwzBT0A7vCq/rK5nP/WTVT6d5x1AYXG/P3Ld9z+gIJU/nxkAQEpxXUDbrGI/yecQQKmNUkDYTJi/09OYu/haPz+c8qQ/EY4/P4M+1z8DA0Y+IJHIPyFEqT+HtFE/AjQEvHIUHb8dj4S+G3WUv3NLbD+Pogi+VDG3Phsxkz9mqxw/w1U/PxGhsT6YKOG9iWAiP0qg1LuxSBhAinImQOfDREB9DzxArWsXvn3Mkz88dz8/k23fP8qfVkCrsYi/2W8jPvkkRkAp2AtAm70fPw8AQD9P9ck/pm6Zv38cQD92c1JAbx9AP3ZBQD+3Oy/A7qyYQIhHlz/JNU2/TaY/PxMBBcAjZc0/UPiaQJUblD7/VAi/Dcn/P48A0z/ghc0/AQfYvhQY6T/QKNA+Urk/P0KFJEChoKI9efT2P2K2Pz8JHxZASCtAPyCAV79wtq6/a6s/P5cGwr7hvCZA/jgCPxq5uT8InRhA9pz6vwXYCED/tEw/eYlqv7uQ4716GDBAbtoIQCIQC8BsT5w/tfQxQK2VA0BzOdu9Fg5nQLfpPz/y8iC/D6E/P14cQD/8N1a/FhqbP8fI4T63Qy2/oxn5vc3QL8BZqD8/6cmcPxkpIT8hpQlAM864P5Y6NT+IGkA/unc/P1JaaL4ktrc/kazpP3bwGz8dGEE/UGOsPxOwPz8a3hFAfgpAP3JVGb9ylz8/nIpcQE/cIj9BcL6+WP7KPyLZmj+moqw/sojjPg==\",\"dtype\":\"float32\",\"order\":\"little\",\"shape\":[190]},\"y\":{\"__ndarray__\":\"fyRqvqJrPD+9abQ/8snhPoKREsBOwyS/uCLXP0zKij6HWFo/6PiPP86QGECrgUS/OhA1QJdlTkCULuI+sKprvt58ZkD4umxAV8jXP65xXj8HTOQ/8Qw8vz1/bkAq0NY/Q0zXP9CmEcCwl45A0e+ZQCZlPz8NdZNAeT8SQJaGNEDGIQlA/yv9P370HEALwmU+Pd/BP/QlHEBkPGo/LVvXP5L4JL5lSOI/918PQC9OkkB0kjtA04ONvxnjfEBgYGU+xmWRP8YFOEDaTxLAaPuTQI5qOz8wvjpAavp5P2HUkr9XLkxAgu//PvhzIUBNeOa9ADUhQKmeTECKhwM/oYC0P86/KkB1exRAP7UOQMxp1j8xpZRA6wDXPwDPEUBzUxZAOWRjP2Cybz3fv1hA/RUOQGhsbz9uiuY/391vP2HMfj/ykRM+nCddQNqWR0Caex5A91jXPy/uQz+44j9AxGJIQEwIkT+n6yxA1vqdP4ItSj/QfGdAUQtEQK4eJEDJedc/aI3+Ovt0+D+vTOM/L8dhPyPXPL83iCu/7UEeQCrh1j8g0ABAcNy6P7t91z+eWEZA5LrXP0LU1j9ZLMw9pJfePm7GWb+iTw1AGP3WP2E5FUA1c3U/gLJoP2r6L0DyXHRAPkQ3QPLaXEDTgOI/FhsUQMGV479b3hk+GH/XP3KrD0A6KWA/4gZBQBzT1j/1g+s+UfjWP131hj9uZU5AqZfWP0WjkT5lAJw9COIqP3MhuD+/z1dAtOiOP4vX0T/cnmU/NYerPoG5rD9UVAlA1bYkQLdbFkBU73m/eU7IPwwdD7/CK8w/b6j6P3811z/uXag/MmLXP2r31z/niCJAY36NQPFOI0Brziy/4gmvP0+wkD2xQNc/19wnQI74hr6phNo/jdvAP8++0j9h69Y/4IbXP6mG5D879o8+Co3lv7IAH0A47Nc/GOayPwNB1z/hFCk/ju7WPzjQBb9a5tY/Zg25Pw7Dc0Bi+Bk/+atrPzGwY0AuYxhAeT1WPw==\",\"dtype\":\"float32\",\"order\":\"little\",\"shape\":[190]}},\"selected\":{\"id\":\"1054\"},\"selection_policy\":{\"id\":\"1053\"}},\"id\":\"1003\",\"type\":\"ColumnDataSource\"},{\"attributes\":{\"fill_alpha\":{\"value\":0.2},\"fill_color\":{\"value\":\"#FF7373\"},\"hatch_alpha\":{\"value\":0.2},\"hatch_color\":{\"value\":\"#FF7373\"},\"line_alpha\":{\"value\":0.2},\"line_color\":{\"value\":\"#FF7373\"},\"size\":{\"value\":10},\"x\":{\"field\":\"x\"},\"y\":{\"field\":\"y\"}},\"id\":\"1038\",\"type\":\"Scatter\"},{\"attributes\":{},\"id\":\"1048\",\"type\":\"BasicTickFormatter\"},{\"attributes\":{\"coordinates\":null,\"group\":null},\"id\":\"1045\",\"type\":\"Title\"},{\"attributes\":{\"axis_label\":\"t-SNE Dimension 1\",\"coordinates\":null,\"formatter\":{\"id\":\"1051\"},\"group\":null,\"major_label_policy\":{\"id\":\"1052\"},\"ticker\":{\"id\":\"1014\"}},\"id\":\"1013\",\"type\":\"LinearAxis\"},{\"attributes\":{\"fill_alpha\":{\"value\":0.8},\"fill_color\":{\"value\":\"#FF7373\"},\"hatch_alpha\":{\"value\":0.8},\"hatch_color\":{\"value\":\"#FF7373\"},\"line_alpha\":{\"value\":0.8},\"line_color\":{\"value\":\"#FF7373\"},\"size\":{\"value\":10},\"x\":{\"field\":\"x\"},\"y\":{\"field\":\"y\"}},\"id\":\"1036\",\"type\":\"Scatter\"},{\"attributes\":{},\"id\":\"1009\",\"type\":\"LinearScale\"},{\"attributes\":{\"fill_alpha\":{\"value\":0.1},\"fill_color\":{\"value\":\"#FF7373\"},\"hatch_alpha\":{\"value\":0.1},\"hatch_color\":{\"value\":\"#FF7373\"},\"line_alpha\":{\"value\":0.1},\"line_color\":{\"value\":\"#FF7373\"},\"size\":{\"value\":10},\"x\":{\"field\":\"x\"},\"y\":{\"field\":\"y\"}},\"id\":\"1037\",\"type\":\"Scatter\"},{\"attributes\":{\"tools\":[{\"id\":\"1021\"},{\"id\":\"1022\"},{\"id\":\"1023\"},{\"id\":\"1024\"},{\"id\":\"1025\"},{\"id\":\"1026\"},{\"id\":\"1043\"}]},\"id\":\"1028\",\"type\":\"Toolbar\"},{\"attributes\":{},\"id\":\"1005\",\"type\":\"DataRange1d\"},{\"attributes\":{},\"id\":\"1007\",\"type\":\"DataRange1d\"},{\"attributes\":{},\"id\":\"1011\",\"type\":\"LinearScale\"},{\"attributes\":{},\"id\":\"1014\",\"type\":\"BasicTicker\"},{\"attributes\":{\"axis\":{\"id\":\"1013\"},\"coordinates\":null,\"group\":null,\"ticker\":null},\"id\":\"1016\",\"type\":\"Grid\"},{\"attributes\":{},\"id\":\"1022\",\"type\":\"WheelZoomTool\"},{\"attributes\":{\"axis_label\":\"t-SNE Dimension 2\",\"coordinates\":null,\"formatter\":{\"id\":\"1048\"},\"group\":null,\"major_label_policy\":{\"id\":\"1049\"},\"ticker\":{\"id\":\"1018\"}},\"id\":\"1017\",\"type\":\"LinearAxis\"}],\"root_ids\":[\"1004\"]},\"title\":\"Bokeh Application\",\"version\":\"2.4.3\"}};\n",
       "  const render_items = [{\"docid\":\"fbc6c9f6-0270-420d-ad0b-08517d9277d0\",\"notebook_comms_target\":\"1056\",\"root_ids\":[\"1004\"],\"roots\":{\"1004\":\"c022408a-2d9c-48c1-bb73-8af981745ec4\"}}];\n",
       "  root.Bokeh.embed.embed_items_notebook(docs_json, render_items);\n",
       "  }\n",
       "  if (root.Bokeh !== undefined) {\n",
       "    embed_document(root);\n",
       "  } else {\n",
       "    let attempts = 0;\n",
       "    const timer = setInterval(function(root) {\n",
       "      if (root.Bokeh !== undefined) {\n",
       "        clearInterval(timer);\n",
       "        embed_document(root);\n",
       "      } else {\n",
       "        attempts++;\n",
       "        if (attempts > 100) {\n",
       "          clearInterval(timer);\n",
       "          console.log(\"Bokeh: ERROR: Unable to run BokehJS code because BokehJS library is missing\");\n",
       "        }\n",
       "      }\n",
       "    }, 10, root)\n",
       "  }\n",
       "})(window);"
      ],
      "application/vnd.bokehjs_exec.v0+json": ""
     },
     "metadata": {
      "application/vnd.bokehjs_exec.v0+json": {
       "id": "1004"
      }
     },
     "output_type": "display_data"
    },
    {
     "data": {
      "text/html": [
       "<p><code>&lt;Bokeh Notebook handle for <strong>In[37]</strong>&gt;</code></p>"
      ],
      "text/plain": [
       "<bokeh.io.notebook.CommsHandle at 0x1e4edf700d0>"
      ]
     },
     "execution_count": 37,
     "metadata": {},
     "output_type": "execute_result"
    }
   ],
   "source": [
    "# Plot the map\n",
    "\n",
    "# Display the plot\n",
    "show(plot, notebook_handle=True)\n",
    "# ... YOUR CODE FOR TASK 10 ..."
   ]
  },
  {
   "cell_type": "markdown",
   "metadata": {
    "dc": {
     "key": "76"
    },
    "deletable": false,
    "editable": false,
    "run_control": {
     "frozen": true
    },
    "tags": [
     "context"
    ]
   },
   "source": [
    "## 11. Comparing two products\n",
    "<p>Since there are so many cosmetics and so many ingredients, the plot doesn't have many super obvious patterns that simpler t-SNE plots can have (<a href=\"https://campus.datacamp.com/courses/unsupervised-learning-in-python/visualization-with-hierarchical-clustering-and-t-sne?ex=10\">example</a>). Our plot requires some digging to find insights, but that's okay!</p>\n",
    "<p>Say we enjoyed a specific product, there's an increased chance we'd enjoy another product that is similar in chemical composition.  Say we enjoyed AmorePacific's <a href=\"https://www.sephora.com/product/color-control-cushion-compact-broad-spectrum-spf-50-P378121\">Color Control Cushion Compact Broad Spectrum SPF 50+</a>. We could find this product on the plot and see if a similar product(s) exist. And it turns out it does! If we look at the points furthest left on the plot, we see  LANEIGE's <a href=\"https://www.sephora.com/product/bb-cushion-hydra-radiance-P420676\">BB Cushion Hydra Radiance SPF 50</a> essentially overlaps with the AmorePacific product. By looking at the ingredients, we can visually confirm the compositions of the products are similar (<em>though it is difficult to do, which is why we did this analysis in the first place!</em>), plus LANEIGE's version is $22 cheaper and actually has higher ratings.</p>\n",
    "<p>It's not perfect, but it's useful. In real life, we can actually use our little ingredient-based recommendation engine help us make educated cosmetic purchase choices.</p>"
   ]
  },
  {
   "cell_type": "code",
   "execution_count": 38,
   "metadata": {
    "dc": {
     "key": "76"
    },
    "tags": [
     "sample_code"
    ]
   },
   "outputs": [
    {
     "data": {
      "text/html": [
       "<div>\n",
       "<style scoped>\n",
       "    .dataframe tbody tr th:only-of-type {\n",
       "        vertical-align: middle;\n",
       "    }\n",
       "\n",
       "    .dataframe tbody tr th {\n",
       "        vertical-align: top;\n",
       "    }\n",
       "\n",
       "    .dataframe thead th {\n",
       "        text-align: right;\n",
       "    }\n",
       "</style>\n",
       "<table border=\"1\" class=\"dataframe\">\n",
       "  <thead>\n",
       "    <tr style=\"text-align: right;\">\n",
       "      <th></th>\n",
       "      <th>Label</th>\n",
       "      <th>Brand</th>\n",
       "      <th>Name</th>\n",
       "      <th>Price</th>\n",
       "      <th>Rank</th>\n",
       "      <th>Ingredients</th>\n",
       "      <th>Combination</th>\n",
       "      <th>Dry</th>\n",
       "      <th>Normal</th>\n",
       "      <th>Oily</th>\n",
       "      <th>Sensitive</th>\n",
       "      <th>X</th>\n",
       "      <th>Y</th>\n",
       "    </tr>\n",
       "  </thead>\n",
       "  <tbody>\n",
       "    <tr>\n",
       "      <th>45</th>\n",
       "      <td>Moisturizer</td>\n",
       "      <td>AMOREPACIFIC</td>\n",
       "      <td>Color Control Cushion Compact Broad Spectrum S...</td>\n",
       "      <td>60</td>\n",
       "      <td>4.0</td>\n",
       "      <td>Phyllostachis Bambusoides Juice, Cyclopentasil...</td>\n",
       "      <td>1</td>\n",
       "      <td>1</td>\n",
       "      <td>1</td>\n",
       "      <td>1</td>\n",
       "      <td>1</td>\n",
       "      <td>0.211015</td>\n",
       "      <td>-1.105585</td>\n",
       "    </tr>\n",
       "  </tbody>\n",
       "</table>\n",
       "</div>"
      ],
      "text/plain": [
       "          Label         Brand  \\\n",
       "45  Moisturizer  AMOREPACIFIC   \n",
       "\n",
       "                                                 Name  Price  Rank  \\\n",
       "45  Color Control Cushion Compact Broad Spectrum S...     60   4.0   \n",
       "\n",
       "                                          Ingredients  Combination  Dry  \\\n",
       "45  Phyllostachis Bambusoides Juice, Cyclopentasil...            1    1   \n",
       "\n",
       "    Normal  Oily  Sensitive         X         Y  \n",
       "45       1     1          1  0.211015 -1.105585  "
      ]
     },
     "metadata": {},
     "output_type": "display_data"
    },
    {
     "name": "stdout",
     "output_type": "stream",
     "text": [
      "['Phyllostachis Bambusoides Juice, Cyclopentasiloxane, Cyclohexasiloxane, Peg-10 Dimethicone, Phenyl Trimethicone, Butylene Glycol, Butylene Glycol Dicaprylate/Dicaprate, Alcohol, Arbutin, Lauryl Peg-9 Polydimethylsiloxyethyl Dimethicone, Acrylates/Ethylhexyl Acrylate/Dimethicone Methacrylate Copolymer, Polyhydroxystearic Acid, Sodium Chloride, Polymethyl Methacrylate, Aluminium Hydroxide, Stearic Acid, Disteardimonium Hectorite, Triethoxycaprylylsilane, Ethylhexyl Palmitate, Lecithin, Isostearic Acid, Isopropyl Palmitate, Phenoxyethanol, Polyglyceryl-3 Polyricinoleate, Acrylates/Stearyl Acrylate/Dimethicone Methacrylate Copolymer, Dimethicone, Disodium Edta, Trimethylsiloxysilicate, Ethylhexyglycerin, Dimethicone/Vinyl Dimethicone Crosspolymer, Water, Silica, Camellia Japonica Seed Oil, Camillia Sinensis Leaf Extract, Caprylyl Glycol, 1,2-Hexanediol, Fragrance, Titanium Dioxide, Iron Oxides (Ci 77492, Ci 77491, Ci77499).']\n"
     ]
    },
    {
     "data": {
      "text/html": [
       "<div>\n",
       "<style scoped>\n",
       "    .dataframe tbody tr th:only-of-type {\n",
       "        vertical-align: middle;\n",
       "    }\n",
       "\n",
       "    .dataframe tbody tr th {\n",
       "        vertical-align: top;\n",
       "    }\n",
       "\n",
       "    .dataframe thead th {\n",
       "        text-align: right;\n",
       "    }\n",
       "</style>\n",
       "<table border=\"1\" class=\"dataframe\">\n",
       "  <thead>\n",
       "    <tr style=\"text-align: right;\">\n",
       "      <th></th>\n",
       "      <th>Label</th>\n",
       "      <th>Brand</th>\n",
       "      <th>Name</th>\n",
       "      <th>Price</th>\n",
       "      <th>Rank</th>\n",
       "      <th>Ingredients</th>\n",
       "      <th>Combination</th>\n",
       "      <th>Dry</th>\n",
       "      <th>Normal</th>\n",
       "      <th>Oily</th>\n",
       "      <th>Sensitive</th>\n",
       "      <th>X</th>\n",
       "      <th>Y</th>\n",
       "    </tr>\n",
       "  </thead>\n",
       "  <tbody>\n",
       "    <tr>\n",
       "      <th>55</th>\n",
       "      <td>Moisturizer</td>\n",
       "      <td>LANEIGE</td>\n",
       "      <td>BB Cushion Hydra Radiance SPF 50</td>\n",
       "      <td>38</td>\n",
       "      <td>4.3</td>\n",
       "      <td>Water, Cyclopentasiloxane, Zinc Oxide (CI 7794...</td>\n",
       "      <td>1</td>\n",
       "      <td>1</td>\n",
       "      <td>1</td>\n",
       "      <td>1</td>\n",
       "      <td>1</td>\n",
       "      <td>0.208572</td>\n",
       "      <td>-1.147106</td>\n",
       "    </tr>\n",
       "  </tbody>\n",
       "</table>\n",
       "</div>"
      ],
      "text/plain": [
       "          Label    Brand                              Name  Price  Rank  \\\n",
       "55  Moisturizer  LANEIGE  BB Cushion Hydra Radiance SPF 50     38   4.3   \n",
       "\n",
       "                                          Ingredients  Combination  Dry  \\\n",
       "55  Water, Cyclopentasiloxane, Zinc Oxide (CI 7794...            1    1   \n",
       "\n",
       "    Normal  Oily  Sensitive         X         Y  \n",
       "55       1     1          1  0.208572 -1.147106  "
      ]
     },
     "metadata": {},
     "output_type": "display_data"
    },
    {
     "name": "stdout",
     "output_type": "stream",
     "text": [
      "['Water, Cyclopentasiloxane, Zinc Oxide (CI 77947), Ethylhexyl Methoxycinnamate, PEG-10 Dimethicone, Cyclohexasiloxane, Phenyl Trimethicone, Iron Oxides (CI 77492), Butylene Glycol Dicaprylate/Dicaprate, Niacinamide, Lauryl PEG-9 Polydimethylsiloxyethyl Dimethicone, Acrylates/Ethylhexyl Acrylate/Dimethicone Methacrylate Copolymer, Titanium Dioxide (CI 77891 , Iron Oxides (CI 77491), Butylene Glycol, Sodium Chloride, Iron Oxides (CI 77499), Aluminum Hydroxide, HDI/Trimethylol Hexyllactone Crosspolymer, Stearic Acid, Methyl Methacrylate Crosspolymer, Triethoxycaprylylsilane, Phenoxyethanol, Fragrance, Disteardimonium Hectorite, Caprylyl Glycol, Yeast Extract, Acrylates/Stearyl Acrylate/Dimethicone Methacrylate Copolymer, Dimethicone, Trimethylsiloxysilicate, Polysorbate 80, Disodium EDTA, Hydrogenated Lecithin, Dimethicone/Vinyl Dimethicone Crosspolymer, Mica (CI 77019), Silica, 1,2-Hexanediol, Polypropylsilsesquioxane, Chenopodium Quinoa Seed Extract, Magnesium Sulfate, Calcium Chloride, Camellia Sinensis Leaf Extract, Manganese Sulfate, Zinc Sulfate, Ascorbyl Glucoside.']\n"
     ]
    }
   ],
   "source": [
    "# Print the ingredients of two similar cosmetics\n",
    "cosmetic_1 = moisturizers_dry[moisturizers_dry['Name'] == \"Color Control Cushion Compact Broad Spectrum SPF 50+\"]\n",
    "cosmetic_2 = moisturizers_dry[moisturizers_dry['Name'] == \"BB Cushion Hydra Radiance SPF 50\"]\n",
    "\n",
    "# Display each item's data and ingredients\n",
    "display(cosmetic_1)\n",
    "print(cosmetic_1.Ingredients.values)\n",
    "display(cosmetic_2)\n",
    "print(cosmetic_2.Ingredients.values)"
   ]
  },
  {
   "cell_type": "code",
   "execution_count": null,
   "metadata": {},
   "outputs": [],
   "source": []
  }
 ],
 "metadata": {
  "kernelspec": {
   "display_name": "Python 3 (ipykernel)",
   "language": "python",
   "name": "python3"
  },
  "language_info": {
   "codemirror_mode": {
    "name": "ipython",
    "version": 3
   },
   "file_extension": ".py",
   "mimetype": "text/x-python",
   "name": "python",
   "nbconvert_exporter": "python",
   "pygments_lexer": "ipython3",
   "version": "3.9.13"
  }
 },
 "nbformat": 4,
 "nbformat_minor": 2
}
